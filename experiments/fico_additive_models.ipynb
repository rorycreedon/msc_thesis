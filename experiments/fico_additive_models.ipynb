{
 "cells": [
  {
   "cell_type": "code",
   "execution_count": 1,
   "outputs": [],
   "source": [
    "%load_ext autoreload"
   ],
   "metadata": {
    "collapsed": false,
    "ExecuteTime": {
     "end_time": "2023-06-22T10:05:33.510412659Z",
     "start_time": "2023-06-22T10:05:33.502051830Z"
    }
   }
  },
  {
   "cell_type": "code",
   "execution_count": 2,
   "outputs": [],
   "source": [
    "%autoreload 2\n",
    "\n",
    "# Other files\n",
    "from experiments.additive_models import TwoLayerAdditiveModel, train_model\n",
    "\n",
    "# Package imports\n",
    "import numpy as np\n",
    "import pandas as pd\n",
    "import torch\n",
    "from sklearn.model_selection import train_test_split\n",
    "import lightning.pytorch as pl"
   ],
   "metadata": {
    "collapsed": false,
    "ExecuteTime": {
     "end_time": "2023-06-22T10:05:36.773896852Z",
     "start_time": "2023-06-22T10:05:33.512043694Z"
    }
   }
  },
  {
   "cell_type": "markdown",
   "source": [
    "# Pre-processing"
   ],
   "metadata": {
    "collapsed": false
   }
  },
  {
   "cell_type": "code",
   "execution_count": 3,
   "outputs": [],
   "source": [
    "# Load data\n",
    "df = pd.read_csv(\"../data/heloc_dataset_v1.csv\")\n",
    "\n",
    "# define x and y\n",
    "X = df.drop(['RiskPerformance'], axis=1)\n",
    "y = df['RiskPerformance']\n",
    "\n",
    "# convert y to 0 and 1\n",
    "y = y.replace({'Bad': 0, 'Good': 1})"
   ],
   "metadata": {
    "collapsed": false,
    "ExecuteTime": {
     "end_time": "2023-06-22T10:05:36.815112729Z",
     "start_time": "2023-06-22T10:05:36.775209724Z"
    }
   }
  },
  {
   "cell_type": "code",
   "execution_count": 4,
   "outputs": [],
   "source": [
    "# Dealing with categorical variables\n",
    "X.loc[(X['MaxDelq2PublicRecLast12M'] == 5),'MaxDelq2PublicRecLast12M']=6\n",
    "X.loc[(X['MaxDelq2PublicRecLast12M'] == 8),'MaxDelq2PublicRecLast12M']=9\n",
    "conditions = {\n",
    "    1: X['MaxDelq2PublicRecLast12M'] == 7,\n",
    "    2: X['MaxDelq2PublicRecLast12M'] == 6,\n",
    "    3: X['MaxDelq2PublicRecLast12M'] == 4,\n",
    "    4: X['MaxDelq2PublicRecLast12M'] == 3,\n",
    "    5: X['MaxDelq2PublicRecLast12M'] == 2,\n",
    "    6: X['MaxDelq2PublicRecLast12M'] == 1,\n",
    "    7: X['MaxDelq2PublicRecLast12M'] == 0,\n",
    "    -8: X['MaxDelq2PublicRecLast12M'] == 9\n",
    "}\n",
    "\n",
    "X['MaxDelq2PublicRecLast12M'] = np.select(conditions.values(), conditions.keys(), default=X['MaxDelq2PublicRecLast12M'])\n",
    "\n",
    "X.loc[(X['MaxDelqEver'] == 1),'MaxDelqEver']=9\n",
    "conditions = {\n",
    "    1: X['MaxDelqEver'] == 8,\n",
    "    2: X['MaxDelqEver'] == 7,\n",
    "    3: X['MaxDelqEver'] == 6,\n",
    "    4: X['MaxDelqEver'] == 5,\n",
    "    5: X['MaxDelqEver'] == 4,\n",
    "    6: X['MaxDelqEver'] == 3,\n",
    "    7: X['MaxDelqEver'] == 2,\n",
    "    -8: X['MaxDelqEver'] == 9\n",
    "}\n",
    "\n",
    "X['MaxDelqEver'] = np.select(conditions.values(), conditions.keys(), default=X['MaxDelqEver'])"
   ],
   "metadata": {
    "collapsed": false,
    "ExecuteTime": {
     "end_time": "2023-06-22T10:05:36.849778215Z",
     "start_time": "2023-06-22T10:05:36.815935123Z"
    }
   }
  },
  {
   "cell_type": "code",
   "execution_count": 5,
   "outputs": [],
   "source": [
    "# Dummy variables for -7, -8 and -9 where necessary\n",
    "for val in range(-9, -6):\n",
    "    for col in X:\n",
    "        new_col = col + \"_\" + str(val*-1)\n",
    "        if np.sum(X[col] == val)>0:\n",
    "            X[new_col] = X[col] == val\n",
    "            X[new_col] = X[new_col].astype(int)"
   ],
   "metadata": {
    "collapsed": false,
    "ExecuteTime": {
     "end_time": "2023-06-22T10:05:36.898869668Z",
     "start_time": "2023-06-22T10:05:36.843607146Z"
    }
   }
  },
  {
   "cell_type": "code",
   "execution_count": 6,
   "outputs": [
    {
     "data": {
      "text/plain": "      RiskPerformance  ExternalRiskEstimate  MSinceOldestTradeOpen  \\\n0                 Bad                    55                    144   \n1                 Bad                    61                     58   \n2                 Bad                    67                     66   \n3                 Bad                    66                    169   \n4                 Bad                    81                    333   \n...               ...                   ...                    ...   \n10454            Good                    73                    131   \n10455             Bad                    65                    147   \n10456             Bad                    74                    129   \n10457             Bad                    72                    234   \n10458             Bad                    66                     28   \n\n       MSinceMostRecentTradeOpen  AverageMInFile  NumSatisfactoryTrades  \\\n0                              4              84                     20   \n1                             15              41                      2   \n2                              5              24                      9   \n3                              1              73                     28   \n4                             27             132                     12   \n...                          ...             ...                    ...   \n10454                          5              57                     21   \n10455                         39              68                     11   \n10456                          6              64                     18   \n10457                         12             113                     42   \n10458                          1              17                      4   \n\n       NumTrades60Ever2DerogPubRec  NumTrades90Ever2DerogPubRec  \\\n0                                3                            0   \n1                                4                            4   \n2                                0                            0   \n3                                1                            1   \n4                                0                            0   \n...                            ...                          ...   \n10454                            0                            0   \n10455                            0                            0   \n10456                            1                            1   \n10457                            2                            2   \n10458                            0                            0   \n\n       PercentTradesNeverDelq  MSinceMostRecentDelq  ...  \\\n0                          83                     2  ...   \n1                         100                    -7  ...   \n2                         100                    -7  ...   \n3                          93                    76  ...   \n4                         100                    -7  ...   \n...                       ...                   ...  ...   \n10454                      95                    80  ...   \n10455                      92                    28  ...   \n10456                     100                    -7  ...   \n10457                      96                    35  ...   \n10458                     100                    -7  ...   \n\n       PercentInstallTrades  MSinceMostRecentInqexcl7days  NumInqLast6M  \\\n0                        43                             0             0   \n1                        67                             0             0   \n2                        44                             0             4   \n3                        57                             0             5   \n4                        25                             0             1   \n...                     ...                           ...           ...   \n10454                    19                             7             0   \n10455                    42                             1             1   \n10456                    33                             3             4   \n10457                    20                             6             0   \n10458                    60                             3             3   \n\n       NumInqLast6Mexcl7days  NetFractionRevolvingBurden  \\\n0                          0                          33   \n1                          0                           0   \n2                          4                          53   \n3                          4                          72   \n4                          1                          51   \n...                      ...                         ...   \n10454                      0                          26   \n10455                      1                          86   \n10456                      4                           6   \n10457                      0                          19   \n10458                      2                          67   \n\n       NetFractionInstallBurden  NumRevolvingTradesWBalance  \\\n0                            -8                           8   \n1                            -8                           0   \n2                            66                           4   \n3                            83                           6   \n4                            89                           3   \n...                         ...                         ...   \n10454                        -8                           5   \n10455                        53                           2   \n10456                        -8                           5   \n10457                        -8                           4   \n10458                        -8                           2   \n\n       NumInstallTradesWBalance  NumBank2NatlTradesWHighUtilization  \\\n0                             1                                   1   \n1                            -8                                  -8   \n2                             2                                   1   \n3                             4                                   3   \n4                             1                                   0   \n...                         ...                                 ...   \n10454                         2                                   0   \n10455                         2                                   1   \n10456                        -8                                   0   \n10457                         1                                   0   \n10458                         1                                   0   \n\n       PercentTradesWBalance  \n0                         69  \n1                          0  \n2                         86  \n3                         91  \n4                         80  \n...                      ...  \n10454                    100  \n10455                     80  \n10456                     56  \n10457                     38  \n10458                    100  \n\n[10459 rows x 24 columns]",
      "text/html": "<div>\n<style scoped>\n    .dataframe tbody tr th:only-of-type {\n        vertical-align: middle;\n    }\n\n    .dataframe tbody tr th {\n        vertical-align: top;\n    }\n\n    .dataframe thead th {\n        text-align: right;\n    }\n</style>\n<table border=\"1\" class=\"dataframe\">\n  <thead>\n    <tr style=\"text-align: right;\">\n      <th></th>\n      <th>RiskPerformance</th>\n      <th>ExternalRiskEstimate</th>\n      <th>MSinceOldestTradeOpen</th>\n      <th>MSinceMostRecentTradeOpen</th>\n      <th>AverageMInFile</th>\n      <th>NumSatisfactoryTrades</th>\n      <th>NumTrades60Ever2DerogPubRec</th>\n      <th>NumTrades90Ever2DerogPubRec</th>\n      <th>PercentTradesNeverDelq</th>\n      <th>MSinceMostRecentDelq</th>\n      <th>...</th>\n      <th>PercentInstallTrades</th>\n      <th>MSinceMostRecentInqexcl7days</th>\n      <th>NumInqLast6M</th>\n      <th>NumInqLast6Mexcl7days</th>\n      <th>NetFractionRevolvingBurden</th>\n      <th>NetFractionInstallBurden</th>\n      <th>NumRevolvingTradesWBalance</th>\n      <th>NumInstallTradesWBalance</th>\n      <th>NumBank2NatlTradesWHighUtilization</th>\n      <th>PercentTradesWBalance</th>\n    </tr>\n  </thead>\n  <tbody>\n    <tr>\n      <th>0</th>\n      <td>Bad</td>\n      <td>55</td>\n      <td>144</td>\n      <td>4</td>\n      <td>84</td>\n      <td>20</td>\n      <td>3</td>\n      <td>0</td>\n      <td>83</td>\n      <td>2</td>\n      <td>...</td>\n      <td>43</td>\n      <td>0</td>\n      <td>0</td>\n      <td>0</td>\n      <td>33</td>\n      <td>-8</td>\n      <td>8</td>\n      <td>1</td>\n      <td>1</td>\n      <td>69</td>\n    </tr>\n    <tr>\n      <th>1</th>\n      <td>Bad</td>\n      <td>61</td>\n      <td>58</td>\n      <td>15</td>\n      <td>41</td>\n      <td>2</td>\n      <td>4</td>\n      <td>4</td>\n      <td>100</td>\n      <td>-7</td>\n      <td>...</td>\n      <td>67</td>\n      <td>0</td>\n      <td>0</td>\n      <td>0</td>\n      <td>0</td>\n      <td>-8</td>\n      <td>0</td>\n      <td>-8</td>\n      <td>-8</td>\n      <td>0</td>\n    </tr>\n    <tr>\n      <th>2</th>\n      <td>Bad</td>\n      <td>67</td>\n      <td>66</td>\n      <td>5</td>\n      <td>24</td>\n      <td>9</td>\n      <td>0</td>\n      <td>0</td>\n      <td>100</td>\n      <td>-7</td>\n      <td>...</td>\n      <td>44</td>\n      <td>0</td>\n      <td>4</td>\n      <td>4</td>\n      <td>53</td>\n      <td>66</td>\n      <td>4</td>\n      <td>2</td>\n      <td>1</td>\n      <td>86</td>\n    </tr>\n    <tr>\n      <th>3</th>\n      <td>Bad</td>\n      <td>66</td>\n      <td>169</td>\n      <td>1</td>\n      <td>73</td>\n      <td>28</td>\n      <td>1</td>\n      <td>1</td>\n      <td>93</td>\n      <td>76</td>\n      <td>...</td>\n      <td>57</td>\n      <td>0</td>\n      <td>5</td>\n      <td>4</td>\n      <td>72</td>\n      <td>83</td>\n      <td>6</td>\n      <td>4</td>\n      <td>3</td>\n      <td>91</td>\n    </tr>\n    <tr>\n      <th>4</th>\n      <td>Bad</td>\n      <td>81</td>\n      <td>333</td>\n      <td>27</td>\n      <td>132</td>\n      <td>12</td>\n      <td>0</td>\n      <td>0</td>\n      <td>100</td>\n      <td>-7</td>\n      <td>...</td>\n      <td>25</td>\n      <td>0</td>\n      <td>1</td>\n      <td>1</td>\n      <td>51</td>\n      <td>89</td>\n      <td>3</td>\n      <td>1</td>\n      <td>0</td>\n      <td>80</td>\n    </tr>\n    <tr>\n      <th>...</th>\n      <td>...</td>\n      <td>...</td>\n      <td>...</td>\n      <td>...</td>\n      <td>...</td>\n      <td>...</td>\n      <td>...</td>\n      <td>...</td>\n      <td>...</td>\n      <td>...</td>\n      <td>...</td>\n      <td>...</td>\n      <td>...</td>\n      <td>...</td>\n      <td>...</td>\n      <td>...</td>\n      <td>...</td>\n      <td>...</td>\n      <td>...</td>\n      <td>...</td>\n      <td>...</td>\n    </tr>\n    <tr>\n      <th>10454</th>\n      <td>Good</td>\n      <td>73</td>\n      <td>131</td>\n      <td>5</td>\n      <td>57</td>\n      <td>21</td>\n      <td>0</td>\n      <td>0</td>\n      <td>95</td>\n      <td>80</td>\n      <td>...</td>\n      <td>19</td>\n      <td>7</td>\n      <td>0</td>\n      <td>0</td>\n      <td>26</td>\n      <td>-8</td>\n      <td>5</td>\n      <td>2</td>\n      <td>0</td>\n      <td>100</td>\n    </tr>\n    <tr>\n      <th>10455</th>\n      <td>Bad</td>\n      <td>65</td>\n      <td>147</td>\n      <td>39</td>\n      <td>68</td>\n      <td>11</td>\n      <td>0</td>\n      <td>0</td>\n      <td>92</td>\n      <td>28</td>\n      <td>...</td>\n      <td>42</td>\n      <td>1</td>\n      <td>1</td>\n      <td>1</td>\n      <td>86</td>\n      <td>53</td>\n      <td>2</td>\n      <td>2</td>\n      <td>1</td>\n      <td>80</td>\n    </tr>\n    <tr>\n      <th>10456</th>\n      <td>Bad</td>\n      <td>74</td>\n      <td>129</td>\n      <td>6</td>\n      <td>64</td>\n      <td>18</td>\n      <td>1</td>\n      <td>1</td>\n      <td>100</td>\n      <td>-7</td>\n      <td>...</td>\n      <td>33</td>\n      <td>3</td>\n      <td>4</td>\n      <td>4</td>\n      <td>6</td>\n      <td>-8</td>\n      <td>5</td>\n      <td>-8</td>\n      <td>0</td>\n      <td>56</td>\n    </tr>\n    <tr>\n      <th>10457</th>\n      <td>Bad</td>\n      <td>72</td>\n      <td>234</td>\n      <td>12</td>\n      <td>113</td>\n      <td>42</td>\n      <td>2</td>\n      <td>2</td>\n      <td>96</td>\n      <td>35</td>\n      <td>...</td>\n      <td>20</td>\n      <td>6</td>\n      <td>0</td>\n      <td>0</td>\n      <td>19</td>\n      <td>-8</td>\n      <td>4</td>\n      <td>1</td>\n      <td>0</td>\n      <td>38</td>\n    </tr>\n    <tr>\n      <th>10458</th>\n      <td>Bad</td>\n      <td>66</td>\n      <td>28</td>\n      <td>1</td>\n      <td>17</td>\n      <td>4</td>\n      <td>0</td>\n      <td>0</td>\n      <td>100</td>\n      <td>-7</td>\n      <td>...</td>\n      <td>60</td>\n      <td>3</td>\n      <td>3</td>\n      <td>2</td>\n      <td>67</td>\n      <td>-8</td>\n      <td>2</td>\n      <td>1</td>\n      <td>0</td>\n      <td>100</td>\n    </tr>\n  </tbody>\n</table>\n<p>10459 rows × 24 columns</p>\n</div>"
     },
     "execution_count": 6,
     "metadata": {},
     "output_type": "execute_result"
    }
   ],
   "source": [
    "df"
   ],
   "metadata": {
    "collapsed": false,
    "ExecuteTime": {
     "end_time": "2023-06-22T10:05:49.735820233Z",
     "start_time": "2023-06-22T10:05:49.655794933Z"
    }
   }
  },
  {
   "cell_type": "code",
   "execution_count": 287,
   "outputs": [],
   "source": [
    "# Sort columns alphabetically\n",
    "X = X.reindex(sorted(X.columns), axis=1)"
   ],
   "metadata": {
    "collapsed": false,
    "ExecuteTime": {
     "end_time": "2023-06-19T11:06:15.370828644Z",
     "start_time": "2023-06-19T11:06:15.328794072Z"
    }
   }
  },
  {
   "cell_type": "code",
   "execution_count": 288,
   "outputs": [],
   "source": [
    "# Make mask for FICO subscales\n",
    "df = pd.read_excel(\"../data/FICO subscale mapping.xlsx\", usecols=\"A,C\")\n",
    "df['x'] = 1\n",
    "# reshape wide\n",
    "df = df.pivot(index='Original Column', columns='Subscale number', values='x').fillna(0)\n",
    "mask = torch.Tensor(df.to_numpy()).T"
   ],
   "metadata": {
    "collapsed": false,
    "ExecuteTime": {
     "end_time": "2023-06-19T11:06:15.411860850Z",
     "start_time": "2023-06-19T11:06:15.370645457Z"
    }
   }
  },
  {
   "cell_type": "code",
   "execution_count": 289,
   "outputs": [
    {
     "data": {
      "text/plain": "       AverageMInFile  AverageMInFile_9  ExternalRiskEstimate  \\\n0                  84                 0                    55   \n1                  41                 0                    61   \n2                  24                 0                    67   \n3                  73                 0                    66   \n4                 132                 0                    81   \n...               ...               ...                   ...   \n10454              57                 0                    73   \n10455              68                 0                    65   \n10456              64                 0                    74   \n10457             113                 0                    72   \n10458              17                 0                    66   \n\n       ExternalRiskEstimate_9  MSinceMostRecentDelq  MSinceMostRecentDelq_7  \\\n0                           0                     2                       0   \n1                           0                    -7                       1   \n2                           0                    -7                       1   \n3                           0                    76                       0   \n4                           0                    -7                       1   \n...                       ...                   ...                     ...   \n10454                       0                    80                       0   \n10455                       0                    28                       0   \n10456                       0                    -7                       1   \n10457                       0                    35                       0   \n10458                       0                    -7                       1   \n\n       MSinceMostRecentDelq_8  MSinceMostRecentDelq_9  \\\n0                           0                       0   \n1                           0                       0   \n2                           0                       0   \n3                           0                       0   \n4                           0                       0   \n...                       ...                     ...   \n10454                       0                       0   \n10455                       0                       0   \n10456                       0                       0   \n10457                       0                       0   \n10458                       0                       0   \n\n       MSinceMostRecentInqexcl7days  MSinceMostRecentInqexcl7days_7  ...  \\\n0                                 0                               0  ...   \n1                                 0                               0  ...   \n2                                 0                               0  ...   \n3                                 0                               0  ...   \n4                                 0                               0  ...   \n...                             ...                             ...  ...   \n10454                             7                               0  ...   \n10455                             1                               0  ...   \n10456                             3                               0  ...   \n10457                             6                               0  ...   \n10458                             3                               0  ...   \n\n       NumTrades90Ever2DerogPubRec_9  NumTradesOpeninLast12M  \\\n0                                  0                       1   \n1                                  0                       0   \n2                                  0                       4   \n3                                  0                       3   \n4                                  0                       0   \n...                              ...                     ...   \n10454                              0                       5   \n10455                              0                       0   \n10456                              0                       1   \n10457                              0                       0   \n10458                              0                       2   \n\n       NumTradesOpeninLast12M_9  PercentInstallTrades  PercentInstallTrades_9  \\\n0                             0                    43                       0   \n1                             0                    67                       0   \n2                             0                    44                       0   \n3                             0                    57                       0   \n4                             0                    25                       0   \n...                         ...                   ...                     ...   \n10454                         0                    19                       0   \n10455                         0                    42                       0   \n10456                         0                    33                       0   \n10457                         0                    20                       0   \n10458                         0                    60                       0   \n\n       PercentTradesNeverDelq  PercentTradesNeverDelq_9  \\\n0                          83                         0   \n1                         100                         0   \n2                         100                         0   \n3                          93                         0   \n4                         100                         0   \n...                       ...                       ...   \n10454                      95                         0   \n10455                      92                         0   \n10456                     100                         0   \n10457                      96                         0   \n10458                     100                         0   \n\n       PercentTradesWBalance  PercentTradesWBalance_8  PercentTradesWBalance_9  \n0                         69                        0                        0  \n1                          0                        0                        0  \n2                         86                        0                        0  \n3                         91                        0                        0  \n4                         80                        0                        0  \n...                      ...                      ...                      ...  \n10454                    100                        0                        0  \n10455                     80                        0                        0  \n10456                     56                        0                        0  \n10457                     38                        0                        0  \n10458                    100                        0                        0  \n\n[10459 rows x 58 columns]",
      "text/html": "<div>\n<style scoped>\n    .dataframe tbody tr th:only-of-type {\n        vertical-align: middle;\n    }\n\n    .dataframe tbody tr th {\n        vertical-align: top;\n    }\n\n    .dataframe thead th {\n        text-align: right;\n    }\n</style>\n<table border=\"1\" class=\"dataframe\">\n  <thead>\n    <tr style=\"text-align: right;\">\n      <th></th>\n      <th>AverageMInFile</th>\n      <th>AverageMInFile_9</th>\n      <th>ExternalRiskEstimate</th>\n      <th>ExternalRiskEstimate_9</th>\n      <th>MSinceMostRecentDelq</th>\n      <th>MSinceMostRecentDelq_7</th>\n      <th>MSinceMostRecentDelq_8</th>\n      <th>MSinceMostRecentDelq_9</th>\n      <th>MSinceMostRecentInqexcl7days</th>\n      <th>MSinceMostRecentInqexcl7days_7</th>\n      <th>...</th>\n      <th>NumTrades90Ever2DerogPubRec_9</th>\n      <th>NumTradesOpeninLast12M</th>\n      <th>NumTradesOpeninLast12M_9</th>\n      <th>PercentInstallTrades</th>\n      <th>PercentInstallTrades_9</th>\n      <th>PercentTradesNeverDelq</th>\n      <th>PercentTradesNeverDelq_9</th>\n      <th>PercentTradesWBalance</th>\n      <th>PercentTradesWBalance_8</th>\n      <th>PercentTradesWBalance_9</th>\n    </tr>\n  </thead>\n  <tbody>\n    <tr>\n      <th>0</th>\n      <td>84</td>\n      <td>0</td>\n      <td>55</td>\n      <td>0</td>\n      <td>2</td>\n      <td>0</td>\n      <td>0</td>\n      <td>0</td>\n      <td>0</td>\n      <td>0</td>\n      <td>...</td>\n      <td>0</td>\n      <td>1</td>\n      <td>0</td>\n      <td>43</td>\n      <td>0</td>\n      <td>83</td>\n      <td>0</td>\n      <td>69</td>\n      <td>0</td>\n      <td>0</td>\n    </tr>\n    <tr>\n      <th>1</th>\n      <td>41</td>\n      <td>0</td>\n      <td>61</td>\n      <td>0</td>\n      <td>-7</td>\n      <td>1</td>\n      <td>0</td>\n      <td>0</td>\n      <td>0</td>\n      <td>0</td>\n      <td>...</td>\n      <td>0</td>\n      <td>0</td>\n      <td>0</td>\n      <td>67</td>\n      <td>0</td>\n      <td>100</td>\n      <td>0</td>\n      <td>0</td>\n      <td>0</td>\n      <td>0</td>\n    </tr>\n    <tr>\n      <th>2</th>\n      <td>24</td>\n      <td>0</td>\n      <td>67</td>\n      <td>0</td>\n      <td>-7</td>\n      <td>1</td>\n      <td>0</td>\n      <td>0</td>\n      <td>0</td>\n      <td>0</td>\n      <td>...</td>\n      <td>0</td>\n      <td>4</td>\n      <td>0</td>\n      <td>44</td>\n      <td>0</td>\n      <td>100</td>\n      <td>0</td>\n      <td>86</td>\n      <td>0</td>\n      <td>0</td>\n    </tr>\n    <tr>\n      <th>3</th>\n      <td>73</td>\n      <td>0</td>\n      <td>66</td>\n      <td>0</td>\n      <td>76</td>\n      <td>0</td>\n      <td>0</td>\n      <td>0</td>\n      <td>0</td>\n      <td>0</td>\n      <td>...</td>\n      <td>0</td>\n      <td>3</td>\n      <td>0</td>\n      <td>57</td>\n      <td>0</td>\n      <td>93</td>\n      <td>0</td>\n      <td>91</td>\n      <td>0</td>\n      <td>0</td>\n    </tr>\n    <tr>\n      <th>4</th>\n      <td>132</td>\n      <td>0</td>\n      <td>81</td>\n      <td>0</td>\n      <td>-7</td>\n      <td>1</td>\n      <td>0</td>\n      <td>0</td>\n      <td>0</td>\n      <td>0</td>\n      <td>...</td>\n      <td>0</td>\n      <td>0</td>\n      <td>0</td>\n      <td>25</td>\n      <td>0</td>\n      <td>100</td>\n      <td>0</td>\n      <td>80</td>\n      <td>0</td>\n      <td>0</td>\n    </tr>\n    <tr>\n      <th>...</th>\n      <td>...</td>\n      <td>...</td>\n      <td>...</td>\n      <td>...</td>\n      <td>...</td>\n      <td>...</td>\n      <td>...</td>\n      <td>...</td>\n      <td>...</td>\n      <td>...</td>\n      <td>...</td>\n      <td>...</td>\n      <td>...</td>\n      <td>...</td>\n      <td>...</td>\n      <td>...</td>\n      <td>...</td>\n      <td>...</td>\n      <td>...</td>\n      <td>...</td>\n      <td>...</td>\n    </tr>\n    <tr>\n      <th>10454</th>\n      <td>57</td>\n      <td>0</td>\n      <td>73</td>\n      <td>0</td>\n      <td>80</td>\n      <td>0</td>\n      <td>0</td>\n      <td>0</td>\n      <td>7</td>\n      <td>0</td>\n      <td>...</td>\n      <td>0</td>\n      <td>5</td>\n      <td>0</td>\n      <td>19</td>\n      <td>0</td>\n      <td>95</td>\n      <td>0</td>\n      <td>100</td>\n      <td>0</td>\n      <td>0</td>\n    </tr>\n    <tr>\n      <th>10455</th>\n      <td>68</td>\n      <td>0</td>\n      <td>65</td>\n      <td>0</td>\n      <td>28</td>\n      <td>0</td>\n      <td>0</td>\n      <td>0</td>\n      <td>1</td>\n      <td>0</td>\n      <td>...</td>\n      <td>0</td>\n      <td>0</td>\n      <td>0</td>\n      <td>42</td>\n      <td>0</td>\n      <td>92</td>\n      <td>0</td>\n      <td>80</td>\n      <td>0</td>\n      <td>0</td>\n    </tr>\n    <tr>\n      <th>10456</th>\n      <td>64</td>\n      <td>0</td>\n      <td>74</td>\n      <td>0</td>\n      <td>-7</td>\n      <td>1</td>\n      <td>0</td>\n      <td>0</td>\n      <td>3</td>\n      <td>0</td>\n      <td>...</td>\n      <td>0</td>\n      <td>1</td>\n      <td>0</td>\n      <td>33</td>\n      <td>0</td>\n      <td>100</td>\n      <td>0</td>\n      <td>56</td>\n      <td>0</td>\n      <td>0</td>\n    </tr>\n    <tr>\n      <th>10457</th>\n      <td>113</td>\n      <td>0</td>\n      <td>72</td>\n      <td>0</td>\n      <td>35</td>\n      <td>0</td>\n      <td>0</td>\n      <td>0</td>\n      <td>6</td>\n      <td>0</td>\n      <td>...</td>\n      <td>0</td>\n      <td>0</td>\n      <td>0</td>\n      <td>20</td>\n      <td>0</td>\n      <td>96</td>\n      <td>0</td>\n      <td>38</td>\n      <td>0</td>\n      <td>0</td>\n    </tr>\n    <tr>\n      <th>10458</th>\n      <td>17</td>\n      <td>0</td>\n      <td>66</td>\n      <td>0</td>\n      <td>-7</td>\n      <td>1</td>\n      <td>0</td>\n      <td>0</td>\n      <td>3</td>\n      <td>0</td>\n      <td>...</td>\n      <td>0</td>\n      <td>2</td>\n      <td>0</td>\n      <td>60</td>\n      <td>0</td>\n      <td>100</td>\n      <td>0</td>\n      <td>100</td>\n      <td>0</td>\n      <td>0</td>\n    </tr>\n  </tbody>\n</table>\n<p>10459 rows × 58 columns</p>\n</div>"
     },
     "execution_count": 289,
     "metadata": {},
     "output_type": "execute_result"
    }
   ],
   "source": [
    "X"
   ],
   "metadata": {
    "collapsed": false,
    "ExecuteTime": {
     "end_time": "2023-06-19T11:06:15.460585184Z",
     "start_time": "2023-06-19T11:06:15.411665410Z"
    }
   }
  },
  {
   "cell_type": "markdown",
   "source": [
    "# Train model"
   ],
   "metadata": {
    "collapsed": false
   }
  },
  {
   "cell_type": "code",
   "execution_count": 290,
   "outputs": [],
   "source": [
    "input = torch.Tensor(X.to_numpy())\n",
    "labels = torch.unsqueeze(torch.Tensor(y.to_numpy()), dim=1)\n",
    "\n",
    "# test train split\n",
    "input_train, input_test, label_train, label_test = train_test_split(input, labels, test_size=0.2)"
   ],
   "metadata": {
    "collapsed": false,
    "ExecuteTime": {
     "end_time": "2023-06-19T11:06:15.517361650Z",
     "start_time": "2023-06-19T11:06:15.458870933Z"
    }
   }
  },
  {
   "cell_type": "code",
   "execution_count": 291,
   "outputs": [
    {
     "name": "stdout",
     "output_type": "stream",
     "text": [
      "Epoch: 0 | Loss: 0.9481233358383179\n",
      "Epoch: 100 | Loss: 0.6654854416847229\n",
      "Epoch: 200 | Loss: 0.631005585193634\n",
      "Epoch: 300 | Loss: 0.6047910451889038\n",
      "Epoch: 400 | Loss: 0.5892512798309326\n",
      "Epoch: 500 | Loss: 0.5813308954238892\n",
      "Epoch: 600 | Loss: 0.5753066539764404\n",
      "Epoch: 700 | Loss: 0.5700642466545105\n",
      "Epoch: 800 | Loss: 0.5642005801200867\n",
      "Epoch: 900 | Loss: 0.5604522228240967\n"
     ]
    }
   ],
   "source": [
    "model = TwoLayerAdditiveModel(input_dim = X.shape[1], output_dim=1, hidden_dim=10)\n",
    "model.prune_weights(mask)\n",
    "\n",
    "opt = torch.optim.Adam(model.parameters(), lr=0.01)\n",
    "loss_fn = torch.nn.BCELoss()\n",
    "trained_model = train_model(model=model, input=input_train, labels=label_train, epochs=1000, optimiser=opt, loss_func=loss_fn, sep_layers=False, verbose=True)"
   ],
   "metadata": {
    "collapsed": false,
    "ExecuteTime": {
     "end_time": "2023-06-19T11:06:16.553728557Z",
     "start_time": "2023-06-19T11:06:15.499583099Z"
    }
   }
  },
  {
   "cell_type": "code",
   "execution_count": 292,
   "outputs": [
    {
     "name": "stdout",
     "output_type": "stream",
     "text": [
      "Train accuracy: 71.97322845458984\n",
      "Test accuracy: 71.74951934814453\n"
     ]
    }
   ],
   "source": [
    "# TRAIN ACCURACY\n",
    "label_pred = torch.round(model(input_train))\n",
    "print(f\"Train accuracy: {100*torch.sum(label_pred == label_train)/label_pred.shape[0]}\")\n",
    "\n",
    "# TEST ACCURACY\n",
    "label_pred = torch.round(model(input_test))\n",
    "print(f\"Test accuracy: {100*torch.sum(label_pred == label_test)/label_pred.shape[0]}\")"
   ],
   "metadata": {
    "collapsed": false,
    "ExecuteTime": {
     "end_time": "2023-06-19T11:06:16.576316037Z",
     "start_time": "2023-06-19T11:06:16.551992591Z"
    }
   }
  },
  {
   "cell_type": "code",
   "execution_count": 293,
   "outputs": [
    {
     "name": "stdout",
     "output_type": "stream",
     "text": [
      "Layer: 1 | Epoch: 0 | Loss: 0.8223185539245605\n",
      "Layer: 1 | Epoch: 100 | Loss: 0.660942792892456\n",
      "Layer: 1 | Epoch: 200 | Loss: 0.6328890919685364\n",
      "Layer: 1 | Epoch: 300 | Loss: 0.6224381923675537\n",
      "Layer: 1 | Epoch: 400 | Loss: 0.6160193085670471\n",
      "Layer: 1 | Epoch: 500 | Loss: 0.6113172769546509\n",
      "Layer: 1 | Epoch: 600 | Loss: 0.608805239200592\n",
      "Layer: 1 | Epoch: 700 | Loss: 0.6051337718963623\n",
      "Layer: 1 | Epoch: 800 | Loss: 0.602563738822937\n",
      "Layer: 1 | Epoch: 900 | Loss: 0.600875973701477\n",
      "Layer: 2 | Epoch: 0 | Loss: 0.5995553731918335\n",
      "Layer: 2 | Epoch: 100 | Loss: 0.5710224509239197\n",
      "Layer: 2 | Epoch: 200 | Loss: 0.5706514120101929\n",
      "Layer: 2 | Epoch: 300 | Loss: 0.5706260800361633\n",
      "Layer: 2 | Epoch: 400 | Loss: 0.5706239342689514\n",
      "Layer: 2 | Epoch: 500 | Loss: 0.5706222057342529\n",
      "Layer: 2 | Epoch: 600 | Loss: 0.5706204175949097\n",
      "Layer: 2 | Epoch: 700 | Loss: 0.5706184506416321\n",
      "Layer: 2 | Epoch: 800 | Loss: 0.5706163048744202\n",
      "Layer: 2 | Epoch: 900 | Loss: 0.5706141591072083\n"
     ]
    }
   ],
   "source": [
    "model = TwoLayerAdditiveModel(input_dim = X.shape[1], output_dim=1, hidden_dim=10)\n",
    "model.prune_weights(mask)\n",
    "\n",
    "opt = torch.optim.Adam(model.parameters(), lr=0.01)\n",
    "loss_fn = torch.nn.BCELoss()\n",
    "trained_model = train_model(model=model, input=input_train, labels=label_train, epochs=1000, optimiser=opt, loss_func=loss_fn, sep_layers=True, verbose=True)"
   ],
   "metadata": {
    "collapsed": false,
    "ExecuteTime": {
     "end_time": "2023-06-19T11:06:18.178119814Z",
     "start_time": "2023-06-19T11:06:16.579029181Z"
    }
   }
  },
  {
   "cell_type": "code",
   "execution_count": 294,
   "outputs": [
    {
     "name": "stdout",
     "output_type": "stream",
     "text": [
      "Train accuracy: 71.1246566772461\n",
      "Test accuracy: 70.41108703613281\n"
     ]
    }
   ],
   "source": [
    "# TRAIN ACCURACY\n",
    "label_pred = torch.round(model(input_train))\n",
    "print(f\"Train accuracy: {100*torch.sum(label_pred == label_train)/label_pred.shape[0]}\")\n",
    "\n",
    "# TEST ACCURACY\n",
    "label_pred = torch.round(model(input_test))\n",
    "print(f\"Test accuracy: {100*torch.sum(label_pred == label_test)/label_pred.shape[0]}\")"
   ],
   "metadata": {
    "collapsed": false,
    "ExecuteTime": {
     "end_time": "2023-06-19T11:06:18.202186926Z",
     "start_time": "2023-06-19T11:06:18.177898409Z"
    }
   }
  },
  {
   "cell_type": "code",
   "execution_count": 295,
   "outputs": [
    {
     "name": "stdout",
     "output_type": "stream",
     "text": [
      "Epoch: 0 | Loss: 1.2320494651794434\n",
      "Epoch: 100 | Loss: 0.6210504770278931\n",
      "Epoch: 200 | Loss: 0.6015959978103638\n",
      "Epoch: 300 | Loss: 0.5909579396247864\n",
      "Epoch: 400 | Loss: 0.5756918787956238\n",
      "Epoch: 500 | Loss: 0.565953254699707\n",
      "Epoch: 600 | Loss: 0.5585778951644897\n",
      "Epoch: 700 | Loss: 0.55474853515625\n",
      "Epoch: 800 | Loss: 0.5510203838348389\n",
      "Epoch: 900 | Loss: 0.5490441918373108\n"
     ]
    }
   ],
   "source": [
    "model = TwoLayerAdditiveModel(input_dim = X.shape[1], output_dim=1, hidden_dim=10)\n",
    "\n",
    "opt = torch.optim.Adam(model.parameters(), lr=0.01)\n",
    "loss_fn = torch.nn.BCELoss()\n",
    "trained_model = train_model(model=model, input=input_train, labels=label_train, epochs=1000, optimiser=opt, loss_func=loss_fn, sep_layers=False, verbose=True)"
   ],
   "metadata": {
    "collapsed": false,
    "ExecuteTime": {
     "end_time": "2023-06-19T11:06:19.423659120Z",
     "start_time": "2023-06-19T11:06:18.203390115Z"
    }
   }
  },
  {
   "cell_type": "code",
   "execution_count": 296,
   "outputs": [
    {
     "name": "stdout",
     "output_type": "stream",
     "text": [
      "Train accuracy: 72.6066665649414\n",
      "Test accuracy: 71.22370910644531\n"
     ]
    }
   ],
   "source": [
    "# TRAIN ACCURACY\n",
    "label_pred = torch.round(model(input_train))\n",
    "print(f\"Train accuracy: {100*torch.sum(label_pred == label_train)/label_pred.shape[0]}\")\n",
    "\n",
    "# TEST ACCURACY\n",
    "label_pred = torch.round(model(input_test))\n",
    "print(f\"Test accuracy: {100*torch.sum(label_pred == label_test)/label_pred.shape[0]}\")"
   ],
   "metadata": {
    "collapsed": false,
    "ExecuteTime": {
     "end_time": "2023-06-19T11:06:19.464852878Z",
     "start_time": "2023-06-19T11:06:19.423884581Z"
    }
   }
  },
  {
   "cell_type": "code",
   "execution_count": 297,
   "outputs": [],
   "source": [
    "from torch.nn.utils import prune\n",
    "import torch.nn as nn\n",
    "\n",
    "# define the LightningModule\n",
    "class GenericMLP(nn.Module):\n",
    "    def __init__(self, sizes: list):\n",
    "        super().__init__()\n",
    "\n",
    "        # Setup the layers\n",
    "        self.layers = nn.ModuleList()\n",
    "        for i in range(len(sizes)-1):\n",
    "            self.layers.append(nn.Linear(sizes[i], sizes[i+1], bias=True))\n",
    "            self.layers.append(nn.Sigmoid())\n",
    "\n",
    "        # Initialise the weights\n",
    "        for layer in self.layers:\n",
    "            if isinstance(layer, nn.Linear):\n",
    "                nn.init.xavier_uniform_(layer.weight)\n",
    "                nn.init.zeros_(layer.bias)\n",
    "\n",
    "    def prune_weights(self, mask):\n",
    "        prune.custom_from_mask(self.layers[0], name='weight', mask=mask)\n",
    "\n",
    "    def sep_train_layer(self, layer):\n",
    "        pass\n",
    "\n",
    "    def forward(self, x):\n",
    "        for layer in self.layers:\n",
    "            x = layer(x)\n",
    "        return x\n"
   ],
   "metadata": {
    "collapsed": false,
    "ExecuteTime": {
     "end_time": "2023-06-19T11:06:19.465026478Z",
     "start_time": "2023-06-19T11:06:19.464513693Z"
    }
   }
  },
  {
   "cell_type": "code",
   "execution_count": 298,
   "outputs": [
    {
     "name": "stdout",
     "output_type": "stream",
     "text": [
      "Epoch: 0 | Loss: 0.7130616307258606\n",
      "Epoch: 100 | Loss: 0.6150779724121094\n",
      "Epoch: 200 | Loss: 0.574833333492279\n",
      "Epoch: 300 | Loss: 0.5561997294425964\n",
      "Epoch: 400 | Loss: 0.5523011088371277\n",
      "Epoch: 500 | Loss: 0.5510300397872925\n",
      "Epoch: 600 | Loss: 0.5512269139289856\n",
      "Epoch: 700 | Loss: 0.5515717267990112\n",
      "Epoch: 800 | Loss: 0.5484270453453064\n",
      "Epoch: 900 | Loss: 0.5469260811805725\n"
     ]
    }
   ],
   "source": [
    "model = GenericMLP([58,10, 5,1])\n",
    "model.prune_weights(mask)\n",
    "opt = torch.optim.Adam(model.parameters(), lr=0.01)\n",
    "loss_fn = torch.nn.BCELoss()\n",
    "trained_model = train_model(model=model, input=input_train, labels=label_train, epochs=1000, optimiser=opt, loss_func=loss_fn, sep_layers=False, verbose=True)"
   ],
   "metadata": {
    "collapsed": false,
    "ExecuteTime": {
     "end_time": "2023-06-19T11:06:20.645120101Z",
     "start_time": "2023-06-19T11:06:19.464639164Z"
    }
   }
  },
  {
   "cell_type": "code",
   "execution_count": 299,
   "outputs": [
    {
     "name": "stdout",
     "output_type": "stream",
     "text": [
      "Train accuracy: 72.59471893310547\n",
      "Test accuracy: 72.41873931884766\n"
     ]
    }
   ],
   "source": [
    "# TRAIN ACCURACY\n",
    "label_pred = torch.round(model(input_train))\n",
    "print(f\"Train accuracy: {100*torch.sum(label_pred == label_train)/label_pred.shape[0]}\")\n",
    "\n",
    "# TEST ACCURACY\n",
    "label_pred = torch.round(model(input_test))\n",
    "print(f\"Test accuracy: {100*torch.sum(label_pred == label_test)/label_pred.shape[0]}\")"
   ],
   "metadata": {
    "collapsed": false,
    "ExecuteTime": {
     "end_time": "2023-06-19T11:06:20.685082557Z",
     "start_time": "2023-06-19T11:06:20.684603891Z"
    }
   }
  },
  {
   "cell_type": "code",
   "execution_count": 299,
   "outputs": [],
   "source": [],
   "metadata": {
    "collapsed": false,
    "ExecuteTime": {
     "end_time": "2023-06-19T11:06:20.685198221Z",
     "start_time": "2023-06-19T11:06:20.684748353Z"
    }
   }
  }
 ],
 "metadata": {
  "kernelspec": {
   "display_name": "Python 3",
   "language": "python",
   "name": "python3"
  },
  "language_info": {
   "codemirror_mode": {
    "name": "ipython",
    "version": 2
   },
   "file_extension": ".py",
   "mimetype": "text/x-python",
   "name": "python",
   "nbconvert_exporter": "python",
   "pygments_lexer": "ipython2",
   "version": "2.7.6"
  }
 },
 "nbformat": 4,
 "nbformat_minor": 0
}
