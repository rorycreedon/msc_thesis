{
 "cells": [
  {
   "cell_type": "code",
   "execution_count": 37,
   "metadata": {
    "ExecuteTime": {
     "end_time": "2023-08-14T16:25:01.121331208Z",
     "start_time": "2023-08-14T16:25:01.066748867Z"
    }
   },
   "outputs": [],
   "source": [
    "import numpy as np\n",
    "import torch\n",
    "import networkx as nx\n",
    "\n",
    "from src.causal_recourse_gen import CausalRecourseGenerationParallel"
   ]
  },
  {
   "cell_type": "code",
   "execution_count": 38,
   "metadata": {
    "ExecuteTime": {
     "end_time": "2023-08-14T16:25:01.121727693Z",
     "start_time": "2023-08-14T16:25:01.107582941Z"
    }
   },
   "outputs": [
    {
     "name": "stdout",
     "output_type": "stream",
     "text": [
      "The autoreload extension is already loaded. To reload it, use:\n",
      "  %reload_ext autoreload\n"
     ]
    }
   ],
   "source": [
    "%load_ext autoreload\n",
    "%autoreload 2"
   ]
  },
  {
   "cell_type": "code",
   "execution_count": 120,
   "outputs": [
    {
     "data": {
      "text/plain": "<Figure size 640x480 with 1 Axes>",
      "image/png": "[encoded data removed]"
     },
     "metadata": {},
     "output_type": "display_data"
    }
   ],
   "source": [
    "W_adjacency = np.array([[0, 0.3, 0.2], [0, 0, -0.4], [0, 0, 0]])\n",
    "# draw graph from adjacency matrix\n",
    "G = nx.from_numpy_array(W_adjacency, create_using=nx.DiGraph)\n",
    "nx.draw_shell(G, with_labels=True, labels={0: \"X1\", 1: \"X2\", 2: \"X3\"})"
   ],
   "metadata": {
    "collapsed": false,
    "ExecuteTime": {
     "end_time": "2023-08-14T17:26:58.689075616Z",
     "start_time": "2023-08-14T17:26:58.519826175Z"
    }
   }
  },
  {
   "cell_type": "code",
   "execution_count": 121,
   "outputs": [],
   "source": [
    "W_classifier = np.array([0.5, 0.6, 0.7])\n",
    "b_classifier = -0.5"
   ],
   "metadata": {
    "collapsed": false,
    "ExecuteTime": {
     "end_time": "2023-08-14T17:27:01.574698938Z",
     "start_time": "2023-08-14T17:27:01.418803831Z"
    }
   }
  },
  {
   "cell_type": "code",
   "execution_count": 133,
   "outputs": [],
   "source": [
    "X = np.array([[0.2, -0.8, -0.4], [-0.6, -0.9, -0.3]])"
   ],
   "metadata": {
    "collapsed": false,
    "ExecuteTime": {
     "end_time": "2023-08-14T17:36:40.985911275Z",
     "start_time": "2023-08-14T17:36:40.863961360Z"
    }
   }
  },
  {
   "cell_type": "code",
   "execution_count": 134,
   "outputs": [],
   "source": [
    "def sigmoid(x):\n",
    "    return 1 / (1 + np.exp(-x))"
   ],
   "metadata": {
    "collapsed": false,
    "ExecuteTime": {
     "end_time": "2023-08-14T17:36:41.657526408Z",
     "start_time": "2023-08-14T17:36:41.621506289Z"
    }
   }
  },
  {
   "cell_type": "code",
   "execution_count": 135,
   "outputs": [
    {
     "data": {
      "text/plain": "array([0.23866729, 0.17508627])"
     },
     "execution_count": 135,
     "metadata": {},
     "output_type": "execute_result"
    }
   ],
   "source": [
    "sigmoid(X @ W_classifier + b_classifier)"
   ],
   "metadata": {
    "collapsed": false,
    "ExecuteTime": {
     "end_time": "2023-08-14T17:36:42.080652957Z",
     "start_time": "2023-08-14T17:36:42.053384530Z"
    }
   }
  },
  {
   "cell_type": "code",
   "execution_count": 137,
   "outputs": [
    {
     "name": "stderr",
     "output_type": "stream",
     "text": [
      "100%|██████████| 2/2 [00:00<00:00,  2.10it/s]\n"
     ]
    }
   ],
   "source": [
    "# if name is main needed otherwise multiprocessing fails\n",
    "if __name__ == \"__main__\":\n",
    "    recourse_gen = CausalRecourseGenerationParallel(\n",
    "        learn_beta=False, learn_ordering=False\n",
    "    )\n",
    "    recourse_gen.add_data(\n",
    "        X=torch.tensor(X),\n",
    "        W_adjacency=torch.tensor(W_adjacency),\n",
    "        W_classifier=torch.tensor(W_classifier),\n",
    "        b_classifier=torch.tensor(b_classifier),\n",
    "    )\n",
    "    recourse_gen.set_ordering(torch.Tensor([0, 1, 2]))\n",
    "    recourse_gen.set_beta(torch.Tensor([1, 1, 1]))\n",
    "    recourse_df = recourse_gen.gen_recourse(classifier_margin=0, max_epochs=2000)"
   ],
   "metadata": {
    "collapsed": false,
    "ExecuteTime": {
     "end_time": "2023-08-14T17:36:56.976322425Z",
     "start_time": "2023-08-14T17:36:55.995432024Z"
    }
   }
  },
  {
   "cell_type": "code",
   "execution_count": 138,
   "outputs": [
    {
     "data": {
      "text/plain": "         X1        X2        X3        a1        a2        a3  order1  order2  \\\n0  0.953375 -0.279988  0.276200  0.753385  0.294004  0.643133     0.0     1.0   \n1  0.406753 -0.205095  0.603622  1.006760  0.392882  0.859429     0.0     1.0   \n\n   order3      cost      prob  \n0     2.0  1.067619  0.500509  \n1     2.0  1.906513  0.500714  ",
      "text/html": "<div>\n<style scoped>\n    .dataframe tbody tr th:only-of-type {\n        vertical-align: middle;\n    }\n\n    .dataframe tbody tr th {\n        vertical-align: top;\n    }\n\n    .dataframe thead th {\n        text-align: right;\n    }\n</style>\n<table border=\"1\" class=\"dataframe\">\n  <thead>\n    <tr style=\"text-align: right;\">\n      <th></th>\n      <th>X1</th>\n      <th>X2</th>\n      <th>X3</th>\n      <th>a1</th>\n      <th>a2</th>\n      <th>a3</th>\n      <th>order1</th>\n      <th>order2</th>\n      <th>order3</th>\n      <th>cost</th>\n      <th>prob</th>\n    </tr>\n  </thead>\n  <tbody>\n    <tr>\n      <th>0</th>\n      <td>0.953375</td>\n      <td>-0.279988</td>\n      <td>0.276200</td>\n      <td>0.753385</td>\n      <td>0.294004</td>\n      <td>0.643133</td>\n      <td>0.0</td>\n      <td>1.0</td>\n      <td>2.0</td>\n      <td>1.067619</td>\n      <td>0.500509</td>\n    </tr>\n    <tr>\n      <th>1</th>\n      <td>0.406753</td>\n      <td>-0.205095</td>\n      <td>0.603622</td>\n      <td>1.006760</td>\n      <td>0.392882</td>\n      <td>0.859429</td>\n      <td>0.0</td>\n      <td>1.0</td>\n      <td>2.0</td>\n      <td>1.906513</td>\n      <td>0.500714</td>\n    </tr>\n  </tbody>\n</table>\n</div>"
     },
     "execution_count": 138,
     "metadata": {},
     "output_type": "execute_result"
    }
   ],
   "source": [
    "recourse_df"
   ],
   "metadata": {
    "collapsed": false,
    "ExecuteTime": {
     "end_time": "2023-08-14T17:36:58.627843115Z",
     "start_time": "2023-08-14T17:36:58.596088806Z"
    }
   }
  },
  {
   "cell_type": "code",
   "execution_count": 147,
   "outputs": [],
   "source": [
    "# sample different betas\n",
    "betas = np.random.uniform(0, 2, (2, 5,3))"
   ],
   "metadata": {
    "collapsed": false,
    "ExecuteTime": {
     "end_time": "2023-08-14T17:39:20.806751943Z",
     "start_time": "2023-08-14T17:39:20.765004159Z"
    }
   }
  },
  {
   "cell_type": "code",
   "execution_count": 148,
   "outputs": [
    {
     "data": {
      "text/plain": "array([[0.46445343, 0.38607613, 0.86970296],\n       [0.49910637, 0.12452227, 0.61830683],\n       [1.25919016, 1.59435807, 0.44701022],\n       [0.55383764, 1.82481848, 0.75643119],\n       [1.33929246, 1.10398793, 1.65611853]])"
     },
     "execution_count": 148,
     "metadata": {},
     "output_type": "execute_result"
    }
   ],
   "source": [
    "for i in range(5):\n",
    "    beta = betas"
   ],
   "metadata": {
    "collapsed": false,
    "ExecuteTime": {
     "end_time": "2023-08-14T17:39:25.407640942Z",
     "start_time": "2023-08-14T17:39:25.376230854Z"
    }
   }
  },
  {
   "cell_type": "code",
   "execution_count": 146,
   "outputs": [
    {
     "name": "stderr",
     "output_type": "stream",
     "text": [
      "100%|██████████| 2/2 [00:00<00:00,  2.15it/s]\n"
     ]
    },
    {
     "name": "stdout",
     "output_type": "stream",
     "text": [
      "        X1        X2        X3        a1        a2        a3  order1  order2  \\\n",
      "0  0.70164 -0.507862  0.838523  0.501337  0.141551  1.195225     0.0     1.0   \n",
      "1 -0.02302 -0.563176  1.221030  0.577017  0.163742  1.471062     0.0     1.0   \n",
      "\n",
      "   order3      cost      prob  \n",
      "0     2.0  0.955516  0.533218  \n",
      "1     2.0  1.381260  0.501326  \n"
     ]
    },
    {
     "name": "stderr",
     "output_type": "stream",
     "text": [
      "100%|██████████| 2/2 [00:01<00:00,  1.98it/s]\n"
     ]
    },
    {
     "name": "stdout",
     "output_type": "stream",
     "text": [
      "         X1        X2        X3        a1        a2        a3  order1  order2  \\\n",
      "0  1.178463 -0.263952  0.127409  0.978480  0.242510  0.428721     0.0     1.0   \n",
      "1  0.702468 -0.186525  0.401920  1.302481  0.322735  0.570520     0.0     1.0   \n",
      "\n",
      "   order3      cost      prob  \n",
      "0     2.0  1.207381  0.505011  \n",
      "1     2.0  2.139009  0.505166  \n"
     ]
    },
    {
     "name": "stderr",
     "output_type": "stream",
     "text": [
      "100%|██████████| 2/2 [00:01<00:00,  1.05it/s]\n"
     ]
    },
    {
     "name": "stdout",
     "output_type": "stream",
     "text": [
      "         X1        X2        X3        a1        a2        a3  order1  order2  \\\n",
      "0  1.481964 -0.369899 -0.108013  1.281747  0.045604  0.054023     0.0     1.0   \n",
      "1  1.096293 -0.333629  0.084114  1.695983  0.057622  0.068182     0.0     1.0   \n",
      "\n",
      "   order3      cost      prob  \n",
      "0     2.0  0.103267  0.485862  \n",
      "1     2.0  0.180257  0.476729  \n"
     ]
    },
    {
     "name": "stderr",
     "output_type": "stream",
     "text": [
      "100%|██████████| 2/2 [00:00<00:00,  3.44it/s]\n"
     ]
    },
    {
     "name": "stdout",
     "output_type": "stream",
     "text": [
      "         X1       X2        X3        a1        a2        a3  order1  order2  \\\n",
      "0  0.540272 -0.52459  0.997779  0.340010  0.173201  1.399389     0.0     1.0   \n",
      "1 -0.151745 -0.53725  1.548471  0.447929  0.228116  1.850530     0.0     1.0   \n",
      "\n",
      "   order3      cost      prob  \n",
      "0     2.0  1.047818  0.538381  \n",
      "1     2.0  1.828653  0.546294  \n"
     ]
    },
    {
     "name": "stderr",
     "output_type": "stream",
     "text": [
      "100%|██████████| 2/2 [00:01<00:00,  1.44it/s]"
     ]
    },
    {
     "name": "stdout",
     "output_type": "stream",
     "text": [
      "         X1        X2        X3        a1        a2        a3  order1  order2  \\\n",
      "0  0.722283 -0.163410  0.364328  0.522288  0.479912  0.851844     0.0     1.0   \n",
      "1  0.095297 -0.052339  0.717642  0.695301  0.639077  1.134220     0.0     1.0   \n",
      "\n",
      "   order3      cost      prob  \n",
      "0     2.0  1.396864  0.504531  \n",
      "1     2.0  2.476242  0.504649  \n"
     ]
    },
    {
     "name": "stderr",
     "output_type": "stream",
     "text": [
      "\n"
     ]
    }
   ],
   "source": [
    "for beta in betas:\n",
    "    recourse_gen.set_beta(torch.tensor(beta, dtype=torch.float32))\n",
    "    df = recourse_df = recourse_gen.gen_recourse(classifier_margin=0.02, max_epochs=2000)\n",
    "    print(df)"
   ],
   "metadata": {
    "collapsed": false,
    "ExecuteTime": {
     "end_time": "2023-08-14T17:38:50.192103778Z",
     "start_time": "2023-08-14T17:38:44.334888933Z"
    }
   }
  },
  {
   "cell_type": "code",
   "execution_count": 192,
   "outputs": [],
   "source": [
    "import torch\n",
    "import torch.optim as optim\n",
    "\n",
    "# Sample data\n",
    "N = 100\n",
    "x_dim = 5\n",
    "x = torch.randn(N, x_dim, requires_grad=True)\n",
    "lambdas = torch.zeros(N, requires_grad=True)\n",
    "\n",
    "def f(x):\n",
    "    # Sample function: sum of squares for each row\n",
    "    return torch.sum(x**2, dim=1)\n",
    "\n",
    "def g(x):\n",
    "    # Sample constraint: sum of elements for each row should be >= 2\n",
    "    return 2 - torch.sum(x, dim=1)\n",
    "\n",
    "min_optimizer = optim.SGD([x], lr=0.1)\n",
    "max_optimizer = optim.SGD([lambdas], lr=0.1)\n",
    "\n",
    "costs = []\n",
    "constraints = []\n",
    "\n",
    "num_epochs = 10000\n",
    "losses = []\n",
    "for epoch in range(num_epochs):\n",
    "\n",
    "    max_loss = torch.mean((lambdas * g(x)) - f(x))\n",
    "\n",
    "    max_optimizer.zero_grad()\n",
    "    max_loss.backward()\n",
    "    max_optimizer.step()\n",
    "\n",
    "    min_loss = torch.mean(f(x) - (lambdas * g(x)))\n",
    "    \n",
    "    min_optimizer.zero_grad()\n",
    "    min_loss.backward()\n",
    "    min_optimizer.step()\n",
    "    \n",
    "    costs.append(f(x).mean().detach())\n",
    "    constraints.append(g(x).mean().detach())\n",
    "    \n"
   ],
   "metadata": {
    "collapsed": false,
    "ExecuteTime": {
     "end_time": "2023-08-14T18:15:03.643508087Z",
     "start_time": "2023-08-14T18:14:59.730284033Z"
    }
   }
  },
  {
   "cell_type": "code",
   "execution_count": 193,
   "outputs": [
    {
     "data": {
      "text/plain": "[<matplotlib.lines.Line2D at 0x7f8cc5cda890>]"
     },
     "execution_count": 193,
     "metadata": {},
     "output_type": "execute_result"
    },
    {
     "data": {
      "text/plain": "<Figure size 640x480 with 1 Axes>",
      "image/png": "[encoded data removed]"
     },
     "metadata": {},
     "output_type": "display_data"
    }
   ],
   "source": [
    "plt.plot(costs)"
   ],
   "metadata": {
    "collapsed": false,
    "ExecuteTime": {
     "end_time": "2023-08-14T18:15:04.489144030Z",
     "start_time": "2023-08-14T18:15:04.300624696Z"
    }
   }
  },
  {
   "cell_type": "code",
   "execution_count": 194,
   "outputs": [
    {
     "data": {
      "text/plain": "[<matplotlib.lines.Line2D at 0x7f8ce07c23e0>]"
     },
     "execution_count": 194,
     "metadata": {},
     "output_type": "execute_result"
    },
    {
     "data": {
      "text/plain": "<Figure size 640x480 with 1 Axes>",
      "image/png": "[encoded data removed]"
     },
     "metadata": {},
     "output_type": "display_data"
    }
   ],
   "source": [
    "plt.plot(constraints)"
   ],
   "metadata": {
    "collapsed": false,
    "ExecuteTime": {
     "end_time": "2023-08-14T18:15:05.588417644Z",
     "start_time": "2023-08-14T18:15:05.346541650Z"
    }
   }
  },
  {
   "cell_type": "code",
   "execution_count": null,
   "outputs": [],
   "source": [],
   "metadata": {
    "collapsed": false
   }
  }
 ],
 "metadata": {
  "kernelspec": {
   "display_name": "Python 3 (ipykernel)",
   "language": "python",
   "name": "python3"
  },
  "language_info": {
   "codemirror_mode": {
    "name": "ipython",
    "version": 3
   },
   "file_extension": ".py",
   "mimetype": "text/x-python",
   "name": "python",
   "nbconvert_exporter": "python",
   "pygments_lexer": "ipython3",
   "version": "3.10.12"
  }
 },
 "nbformat": 4,
 "nbformat_minor": 4
}
