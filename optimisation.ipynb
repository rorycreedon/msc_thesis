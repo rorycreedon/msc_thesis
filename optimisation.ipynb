{
 "cells": [
  {
   "cell_type": "code",
   "execution_count": 207,
   "metadata": {
    "ExecuteTime": {
     "end_time": "2023-09-03T21:55:13.215347873Z",
     "start_time": "2023-09-03T21:55:13.167910734Z"
    },
    "collapsed": false
   },
   "outputs": [
    {
     "name": "stdout",
     "output_type": "stream",
     "text": [
      "The autoreload extension is already loaded. To reload it, use:\n",
      "  %reload_ext autoreload\n"
     ]
    }
   ],
   "source": [
    "%load_ext autoreload\n",
    "%autoreload 2"
   ]
  },
  {
   "cell_type": "code",
   "execution_count": 2,
   "metadata": {
    "ExecuteTime": {
     "end_time": "2023-09-03T21:55:15.717570514Z",
     "start_time": "2023-09-03T21:55:14.033915512Z"
    },
    "collapsed": false
   },
   "outputs": [],
   "source": [
    "from run import plot\n",
    "import numpy as np\n",
    "import matplotlib\n",
    "import matplotlib.pyplot as plt\n",
    "import seaborn as sns"
   ]
  },
  {
   "cell_type": "code",
   "execution_count": 3,
   "metadata": {
    "ExecuteTime": {
     "end_time": "2023-09-03T21:55:16.684667033Z",
     "start_time": "2023-09-03T21:55:16.640302419Z"
    },
    "collapsed": false
   },
   "outputs": [],
   "source": [
    "results = np.load('results/simple_scm_noise_results.npy')"
   ]
  },
  {
   "cell_type": "code",
   "execution_count": 4,
   "metadata": {
    "ExecuteTime": {
     "end_time": "2023-09-03T21:55:17.188204193Z",
     "start_time": "2023-09-03T21:55:17.164270971Z"
    },
    "collapsed": false
   },
   "outputs": [],
   "source": [
    "W_range = np.linspace(0, 2, 10)\n",
    "e_range = np.linspace(0, 2, 10)"
   ]
  },
  {
   "cell_type": "code",
   "execution_count": 5,
   "metadata": {
    "ExecuteTime": {
     "end_time": "2023-09-03T21:55:18.262943421Z",
     "start_time": "2023-09-03T21:55:17.708091322Z"
    },
    "collapsed": false
   },
   "outputs": [],
   "source": [
    "plot(W_range, e_range, results, 'simple_scm_noise_results')"
   ]
  },
  {
   "cell_type": "code",
   "execution_count": null,
   "metadata": {},
   "outputs": [],
   "source": []
  }
 ],
 "metadata": {
  "kernelspec": {
   "display_name": "Python 3 (ipykernel)",
   "language": "python",
   "name": "python3"
  },
  "language_info": {
   "codemirror_mode": {
    "name": "ipython",
    "version": 3
   },
   "file_extension": ".py",
   "mimetype": "text/x-python",
   "name": "python",
   "nbconvert_exporter": "python",
   "pygments_lexer": "ipython3",
   "version": "3.10.12"
  }
 },
 "nbformat": 4,
 "nbformat_minor": 4
}
