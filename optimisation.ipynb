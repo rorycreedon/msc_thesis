{
 "cells": [
  {
   "cell_type": "code",
   "execution_count": 1,
   "metadata": {
    "ExecuteTime": {
     "end_time": "2023-08-14T22:28:26.073533898Z",
     "start_time": "2023-08-14T22:28:24.934608316Z"
    }
   },
   "outputs": [],
   "source": [
    "import numpy as np\n",
    "import torch\n",
    "import networkx as nx\n",
    "\n",
    "from src.causal_recourse_gen import CausalRecourseGeneration"
   ]
  },
  {
   "cell_type": "code",
   "execution_count": 2,
   "metadata": {
    "ExecuteTime": {
     "end_time": "2023-08-14T22:28:26.102830870Z",
     "start_time": "2023-08-14T22:28:26.072865986Z"
    }
   },
   "outputs": [],
   "source": [
    "%load_ext autoreload\n",
    "%autoreload 2"
   ]
  },
  {
   "cell_type": "code",
   "execution_count": 3,
   "outputs": [
    {
     "data": {
      "text/plain": "<Figure size 640x480 with 1 Axes>",
      "image/png": "[encoded data removed]"
     },
     "metadata": {},
     "output_type": "display_data"
    }
   ],
   "source": [
    "W_adjacency = np.array([[0, 0.3, 0.2], [0, 0, -0.4], [0, 0, 0]])\n",
    "# draw graph from adjacency matrix\n",
    "G = nx.from_numpy_array(W_adjacency, create_using=nx.DiGraph)\n",
    "nx.draw_shell(G, with_labels=True, labels={0: \"X1\", 1: \"X2\", 2: \"X3\"})"
   ],
   "metadata": {
    "collapsed": false,
    "ExecuteTime": {
     "end_time": "2023-08-14T22:28:26.569161269Z",
     "start_time": "2023-08-14T22:28:26.092634162Z"
    }
   }
  },
  {
   "cell_type": "code",
   "execution_count": 4,
   "outputs": [],
   "source": [
    "W_classifier = np.array([0.5, 0.6, 0.7])\n",
    "b_classifier = -0.5"
   ],
   "metadata": {
    "collapsed": false,
    "ExecuteTime": {
     "end_time": "2023-08-14T22:28:26.569564457Z",
     "start_time": "2023-08-14T22:28:26.526700778Z"
    }
   }
  },
  {
   "cell_type": "code",
   "execution_count": 5,
   "outputs": [],
   "source": [
    "X = np.array([[0.2, -0.8, -0.4], [-0.6, -0.9, -0.3]])"
   ],
   "metadata": {
    "collapsed": false,
    "ExecuteTime": {
     "end_time": "2023-08-14T22:28:26.658556219Z",
     "start_time": "2023-08-14T22:28:26.616440973Z"
    }
   }
  },
  {
   "cell_type": "code",
   "execution_count": 6,
   "outputs": [],
   "source": [
    "def sigmoid(x):\n",
    "    return 1 / (1 + np.exp(-x))"
   ],
   "metadata": {
    "collapsed": false,
    "ExecuteTime": {
     "end_time": "2023-08-14T22:28:27.044104721Z",
     "start_time": "2023-08-14T22:28:27.009375340Z"
    }
   }
  },
  {
   "cell_type": "code",
   "execution_count": 7,
   "outputs": [
    {
     "data": {
      "text/plain": "array([0.23866729, 0.17508627])"
     },
     "execution_count": 7,
     "metadata": {},
     "output_type": "execute_result"
    }
   ],
   "source": [
    "sigmoid(X @ W_classifier + b_classifier)"
   ],
   "metadata": {
    "collapsed": false,
    "ExecuteTime": {
     "end_time": "2023-08-14T22:28:27.511687723Z",
     "start_time": "2023-08-14T22:28:27.470279647Z"
    }
   }
  },
  {
   "cell_type": "code",
   "execution_count": 9,
   "outputs": [],
   "source": [
    "recourse_gen = CausalRecourseGeneration(\n",
    "    learn_beta=False, learn_ordering=False\n",
    ")\n",
    "recourse_gen.add_data(\n",
    "    X=torch.tensor(X),\n",
    "    W_adjacency=torch.tensor(W_adjacency),\n",
    "    W_classifier=torch.tensor(W_classifier),\n",
    "    b_classifier=torch.tensor(b_classifier),\n",
    ")\n",
    "recourse_gen.set_ordering(torch.Tensor([0, 1, 2]).repeat(2, 1))\n",
    "recourse_gen.set_beta(torch.Tensor([1, 1, 1]))\n",
    "recourse_df = recourse_gen.gen_recourse(classifier_margin=0, max_epochs=2000)"
   ],
   "metadata": {
    "collapsed": false,
    "ExecuteTime": {
     "end_time": "2023-08-14T22:29:06.441614771Z",
     "start_time": "2023-08-14T22:29:05.628594479Z"
    }
   }
  },
  {
   "cell_type": "code",
   "execution_count": 10,
   "outputs": [
    {
     "data": {
      "text/plain": "         X1        X2        X3        a1        a2        a3  order1  order2  \\\n0  0.953630 -0.279812  0.276429  0.753626  0.294098  0.643339     0.0     1.0   \n1  0.406837 -0.205037  0.603698  1.006840  0.392913  0.859497     0.0     1.0   \n\n   order3      cost      prob  \n0     2.0  1.068342  0.500607  \n1     2.0  1.906832  0.500746  ",
      "text/html": "<div>\n<style scoped>\n    .dataframe tbody tr th:only-of-type {\n        vertical-align: middle;\n    }\n\n    .dataframe tbody tr th {\n        vertical-align: top;\n    }\n\n    .dataframe thead th {\n        text-align: right;\n    }\n</style>\n<table border=\"1\" class=\"dataframe\">\n  <thead>\n    <tr style=\"text-align: right;\">\n      <th></th>\n      <th>X1</th>\n      <th>X2</th>\n      <th>X3</th>\n      <th>a1</th>\n      <th>a2</th>\n      <th>a3</th>\n      <th>order1</th>\n      <th>order2</th>\n      <th>order3</th>\n      <th>cost</th>\n      <th>prob</th>\n    </tr>\n  </thead>\n  <tbody>\n    <tr>\n      <th>0</th>\n      <td>0.953630</td>\n      <td>-0.279812</td>\n      <td>0.276429</td>\n      <td>0.753626</td>\n      <td>0.294098</td>\n      <td>0.643339</td>\n      <td>0.0</td>\n      <td>1.0</td>\n      <td>2.0</td>\n      <td>1.068342</td>\n      <td>0.500607</td>\n    </tr>\n    <tr>\n      <th>1</th>\n      <td>0.406837</td>\n      <td>-0.205037</td>\n      <td>0.603698</td>\n      <td>1.006840</td>\n      <td>0.392913</td>\n      <td>0.859497</td>\n      <td>0.0</td>\n      <td>1.0</td>\n      <td>2.0</td>\n      <td>1.906832</td>\n      <td>0.500746</td>\n    </tr>\n  </tbody>\n</table>\n</div>"
     },
     "execution_count": 10,
     "metadata": {},
     "output_type": "execute_result"
    }
   ],
   "source": [
    "recourse_df"
   ],
   "metadata": {
    "collapsed": false,
    "ExecuteTime": {
     "end_time": "2023-08-14T22:29:07.748620627Z",
     "start_time": "2023-08-14T22:29:07.709596188Z"
    }
   }
  },
  {
   "cell_type": "code",
   "execution_count": 11,
   "outputs": [],
   "source": [
    "# sample different betas\n",
    "betas = np.random.uniform(0, 2, (2, 5,3))"
   ],
   "metadata": {
    "collapsed": false,
    "ExecuteTime": {
     "end_time": "2023-08-14T22:29:13.932997712Z",
     "start_time": "2023-08-14T22:29:13.891445320Z"
    }
   }
  },
  {
   "cell_type": "code",
   "execution_count": 13,
   "outputs": [
    {
     "ename": "ValueError",
     "evalue": "Beta must have the same number of features as X",
     "output_type": "error",
     "traceback": [
      "\u001B[0;31m---------------------------------------------------------------------------\u001B[0m",
      "\u001B[0;31mValueError\u001B[0m                                Traceback (most recent call last)",
      "Cell \u001B[0;32mIn[13], line 2\u001B[0m\n\u001B[1;32m      1\u001B[0m \u001B[38;5;28;01mfor\u001B[39;00m beta \u001B[38;5;129;01min\u001B[39;00m betas:\n\u001B[0;32m----> 2\u001B[0m     \u001B[43mrecourse_gen\u001B[49m\u001B[38;5;241;43m.\u001B[39;49m\u001B[43mset_beta\u001B[49m\u001B[43m(\u001B[49m\u001B[43mtorch\u001B[49m\u001B[38;5;241;43m.\u001B[39;49m\u001B[43mtensor\u001B[49m\u001B[43m(\u001B[49m\u001B[43mbeta\u001B[49m\u001B[43m,\u001B[49m\u001B[43m \u001B[49m\u001B[43mdtype\u001B[49m\u001B[38;5;241;43m=\u001B[39;49m\u001B[43mtorch\u001B[49m\u001B[38;5;241;43m.\u001B[39;49m\u001B[43mfloat32\u001B[49m\u001B[43m)\u001B[49m\u001B[43m)\u001B[49m\n\u001B[1;32m      3\u001B[0m     df \u001B[38;5;241m=\u001B[39m recourse_df \u001B[38;5;241m=\u001B[39m recourse_gen\u001B[38;5;241m.\u001B[39mgen_recourse(classifier_margin\u001B[38;5;241m=\u001B[39m\u001B[38;5;241m0.02\u001B[39m, max_epochs\u001B[38;5;241m=\u001B[39m\u001B[38;5;241m2000\u001B[39m)\n\u001B[1;32m      4\u001B[0m     \u001B[38;5;28mprint\u001B[39m(df)\n",
      "File \u001B[0;32m~/_Git/msc_thesis/src/causal_recourse_gen.py:121\u001B[0m, in \u001B[0;36mCausalRecourseGeneration.set_beta\u001B[0;34m(self, beta)\u001B[0m\n\u001B[1;32m    116\u001B[0m \u001B[38;5;250m\u001B[39m\u001B[38;5;124;03m\"\"\"\u001B[39;00m\n\u001B[1;32m    117\u001B[0m \u001B[38;5;124;03mSet the beta values\u001B[39;00m\n\u001B[1;32m    118\u001B[0m \u001B[38;5;124;03m:param beta: The beta values\u001B[39;00m\n\u001B[1;32m    119\u001B[0m \u001B[38;5;124;03m\"\"\"\u001B[39;00m\n\u001B[1;32m    120\u001B[0m \u001B[38;5;28;01mif\u001B[39;00m beta\u001B[38;5;241m.\u001B[39mshape[\u001B[38;5;241m0\u001B[39m] \u001B[38;5;241m!=\u001B[39m \u001B[38;5;28mself\u001B[39m\u001B[38;5;241m.\u001B[39mX\u001B[38;5;241m.\u001B[39mshape[\u001B[38;5;241m1\u001B[39m]:\n\u001B[0;32m--> 121\u001B[0m     \u001B[38;5;28;01mraise\u001B[39;00m \u001B[38;5;167;01mValueError\u001B[39;00m(\u001B[38;5;124m\"\u001B[39m\u001B[38;5;124mBeta must have the same number of features as X\u001B[39m\u001B[38;5;124m\"\u001B[39m)\n\u001B[1;32m    122\u001B[0m \u001B[38;5;28mself\u001B[39m\u001B[38;5;241m.\u001B[39mbeta \u001B[38;5;241m=\u001B[39m beta\n",
      "\u001B[0;31mValueError\u001B[0m: Beta must have the same number of features as X"
     ]
    }
   ],
   "source": [
    "for beta in betas:\n",
    "    recourse_gen.set_beta(torch.tensor(beta, dtype=torch.float32))\n",
    "    df = recourse_gen.gen_recourse(classifier_margin=0.02, max_epochs=2000)\n",
    "    print(df)"
   ],
   "metadata": {
    "collapsed": false,
    "ExecuteTime": {
     "end_time": "2023-08-14T22:29:17.546673714Z",
     "start_time": "2023-08-14T22:29:17.494215660Z"
    }
   }
  },
  {
   "cell_type": "code",
   "execution_count": null,
   "outputs": [],
   "source": [],
   "metadata": {
    "collapsed": false
   }
  }
 ],
 "metadata": {
  "kernelspec": {
   "display_name": "Python 3 (ipykernel)",
   "language": "python",
   "name": "python3"
  },
  "language_info": {
   "codemirror_mode": {
    "name": "ipython",
    "version": 3
   },
   "file_extension": ".py",
   "mimetype": "text/x-python",
   "name": "python",
   "nbconvert_exporter": "python",
   "pygments_lexer": "ipython3",
   "version": "3.10.12"
  }
 },
 "nbformat": 4,
 "nbformat_minor": 4
}
