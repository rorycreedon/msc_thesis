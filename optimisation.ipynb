{
 "cells": [
  {
   "cell_type": "code",
   "execution_count": 5,
   "metadata": {
    "ExecuteTime": {
     "end_time": "2023-08-17T15:56:13.346049742Z",
     "start_time": "2023-08-17T15:56:10.900018253Z"
    },
    "collapsed": false,
    "jupyter": {
     "outputs_hidden": false
    }
   },
   "outputs": [],
   "source": [
    "from src.causal_effect_estimation import causal_effect_estimation\n",
    "import numpy as np\n",
    "import torch"
   ]
  },
  {
   "cell_type": "code",
   "execution_count": 6,
   "metadata": {
    "ExecuteTime": {
     "end_time": "2023-08-17T15:56:17.981483773Z",
     "start_time": "2023-08-17T15:56:17.938130070Z"
    },
    "collapsed": false,
    "jupyter": {
     "outputs_hidden": false
    }
   },
   "outputs": [],
   "source": [
    "%load_ext autoreload\n",
    "%autoreload 2"
   ]
  },
  {
   "cell_type": "code",
   "execution_count": 7,
   "metadata": {
    "collapsed": false,
    "jupyter": {
     "outputs_hidden": false
    }
   },
   "outputs": [
    {
     "name": "stdout",
     "output_type": "stream",
     "text": [
      "The line_profiler extension is already loaded. To reload it, use:\n",
      "  %reload_ext line_profiler\n"
     ]
    }
   ],
   "source": [
    "%load_ext line_profiler"
   ]
  },
  {
   "cell_type": "code",
   "execution_count": 10,
   "metadata": {},
   "outputs": [],
   "source": [
    "t = torch.tensor([[1.0, 10.0], [2.0, 20.0], [3.0, 30.0], [4.0, 40.0], [5.0, 50.0]])\n",
    "X = torch.tensor([[2.5, 25.0], [3.5, 35.0]], requires_grad=True)"
   ]
  },
  {
   "cell_type": "code",
   "execution_count": 11,
   "metadata": {},
   "outputs": [
    {
     "data": {
      "text/plain": [
       "(tensor([[30.0000, 30.0000],\n",
       "         [50.0000, 50.0000]], grad_fn=<WhereBackward0>),\n",
       " tensor([[20.,  2.],\n",
       "         [20.,  2.]]))"
      ]
     },
     "execution_count": 11,
     "metadata": {},
     "output_type": "execute_result"
    }
   ],
   "source": [
    "def interpolated_percentile_full_vectorized(t, X):\n",
    "    # Ensure t and X have the same number of columns\n",
    "    assert t.shape[1] == X.shape[1], \"Both matrices must have the same number of columns.\"\n",
    "    \n",
    "    sorted_t, _ = torch.sort(t, dim=0)\n",
    "    \n",
    "    # Expand dimensions for broadcasting\n",
    "    sorted_t_exp = sorted_t.unsqueeze(0)\n",
    "    X_exp = X.unsqueeze(1)\n",
    "\n",
    "    # Find the positions where elements of X would be inserted into t\n",
    "    pos = (sorted_t_exp < X_exp).sum(dim=1)\n",
    "    \n",
    "    # Handle values outside the range\n",
    "    outside_range = (pos == 0) | (pos == t.shape[0])\n",
    "    percentiles_outside = (pos.float() / t.shape[0]) * 100\n",
    "    \n",
    "    # Handle values inside the range using linear interpolation\n",
    "    indices_i = torch.clamp(pos - 1, 0)\n",
    "    indices_i1 = torch.clamp(pos, 0, t.shape[0]-1)\n",
    "    \n",
    "    v_i = torch.gather(sorted_t, 0, indices_i)\n",
    "    v_i1 = torch.gather(sorted_t, 0, indices_i1)\n",
    "    \n",
    "    interpolated_pos = pos - 1 + (X - v_i) / (v_i1 - v_i)\n",
    "    percentiles_inside = (interpolated_pos.float() / t.shape[0]) * 100\n",
    "    \n",
    "    # Combine results\n",
    "    final_percentiles = torch.where(outside_range, percentiles_outside, percentiles_inside)\n",
    "\n",
    "    return final_percentiles\n",
    "\n",
    "# Test the function\n",
    "#X.grad.zero_()  # Clear previous gradients\n",
    "percentile_matrix_fully_vectorized = interpolated_percentile_full_vectorized(t, X)\n",
    "torch.sum(percentile_matrix_fully_vectorized).backward()\n",
    "\n",
    "X_grad_matrix_fully_vectorized = X.grad\n",
    "percentile_matrix_fully_vectorized, X_grad_matrix_fully_vectorized\n"
   ]
  },
  {
   "cell_type": "code",
   "execution_count": 14,
   "metadata": {},
   "outputs": [
    {
     "data": {
      "text/plain": [
       "Timer unit: 1e-09 s\n",
       "\n",
       "Total time: 0.000404856 s\n",
       "File: /tmp/ipykernel_70640/2057498416.py\n",
       "Function: interpolated_percentile_full_vectorized at line 1\n",
       "\n",
       "Line #      Hits         Time  Per Hit   % Time  Line Contents\n",
       "==============================================================\n",
       "     1                                           def interpolated_percentile_full_vectorized(t, X):\n",
       "     2                                               # Ensure t and X have the same number of columns\n",
       "     3         1      20560.0  20560.0      5.1      assert t.shape[1] == X.shape[1], \"Both matrices must have the same number of columns.\"\n",
       "     4                                               \n",
       "     5         1     132262.0 132262.0     32.7      sorted_t, _ = torch.sort(t, dim=0)\n",
       "     6                                               \n",
       "     7                                               # Expand dimensions for broadcasting\n",
       "     8         1      17712.0  17712.0      4.4      sorted_t_exp = sorted_t.unsqueeze(0)\n",
       "     9         1      13223.0  13223.0      3.3      X_exp = X.unsqueeze(1)\n",
       "    10                                           \n",
       "    11                                               # Find the positions where elements of X would be inserted into t\n",
       "    12         1      53363.0  53363.0     13.2      pos = (sorted_t_exp < X_exp).sum(dim=1)\n",
       "    13                                               \n",
       "    14                                               # Handle values outside the range\n",
       "    15         1      36640.0  36640.0      9.1      outside_range = (pos == 0) | (pos == t.shape[0])\n",
       "    16         1      33515.0  33515.0      8.3      percentiles_outside = (pos.float() / t.shape[0]) * 100\n",
       "    17                                               \n",
       "    18                                               # Handle values inside the range using linear interpolation\n",
       "    19         1      21835.0  21835.0      5.4      indices_i = torch.clamp(pos - 1, 0)\n",
       "    20         1       5175.0   5175.0      1.3      indices_i1 = torch.clamp(pos, 0, t.shape[0]-1)\n",
       "    21                                               \n",
       "    22         1      13329.0  13329.0      3.3      v_i = torch.gather(sorted_t, 0, indices_i)\n",
       "    23         1       2752.0   2752.0      0.7      v_i1 = torch.gather(sorted_t, 0, indices_i1)\n",
       "    24                                               \n",
       "    25         1      29326.0  29326.0      7.2      interpolated_pos = pos - 1 + (X - v_i) / (v_i1 - v_i)\n",
       "    26         1      11613.0  11613.0      2.9      percentiles_inside = (interpolated_pos.float() / t.shape[0]) * 100\n",
       "    27                                               \n",
       "    28                                               # Combine results\n",
       "    29         1      13383.0  13383.0      3.3      final_percentiles = torch.where(outside_range, percentiles_outside, percentiles_inside)\n",
       "    30                                           \n",
       "    31         1        168.0    168.0      0.0      return final_percentiles"
      ]
     },
     "metadata": {},
     "output_type": "display_data"
    }
   ],
   "source": [
    "%lprun -f interpolated_percentile_full_vectorized interpolated_percentile_full_vectorized(t, X)"
   ]
  },
  {
   "cell_type": "code",
   "execution_count": null,
   "metadata": {},
   "outputs": [],
   "source": []
  }
 ],
 "metadata": {
  "kernelspec": {
   "display_name": "Python 3 (ipykernel)",
   "language": "python",
   "name": "python3"
  },
  "language_info": {
   "codemirror_mode": {
    "name": "ipython",
    "version": 3
   },
   "file_extension": ".py",
   "mimetype": "text/x-python",
   "name": "python",
   "nbconvert_exporter": "python",
   "pygments_lexer": "ipython3",
   "version": "3.10.12"
  }
 },
 "nbformat": 4,
 "nbformat_minor": 4
}
