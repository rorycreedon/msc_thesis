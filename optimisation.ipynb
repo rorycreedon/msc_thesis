{
 "cells": [
  {
   "cell_type": "code",
   "execution_count": 1,
   "metadata": {
    "ExecuteTime": {
     "end_time": "2023-09-03T21:55:13.215347873Z",
     "start_time": "2023-09-03T21:55:13.167910734Z"
    },
    "collapsed": false
   },
   "outputs": [],
   "source": [
    "%load_ext autoreload\n",
    "%autoreload 2"
   ]
  },
  {
   "cell_type": "code",
   "execution_count": 8,
   "metadata": {},
   "outputs": [],
   "source": [
    "from src.structural_models.synthetic_data import SimpleSCM\n",
    "import torch"
   ]
  },
  {
   "cell_type": "code",
   "execution_count": 72,
   "metadata": {},
   "outputs": [],
   "source": [
    "SCM = SimpleSCM(100)\n",
    "SCM.simulate_data()\n",
    "\n",
    "# Classify data\n",
    "y_pred, X_neg, clf = SCM.classify_data()\n",
    "N_neg = X_neg.shape[0]\n",
    "X_neg = torch.tensor(X_neg, dtype=torch.float64)"
   ]
  },
  {
   "cell_type": "code",
   "execution_count": 73,
   "metadata": {},
   "outputs": [],
   "source": [
    "A = torch.rand(X_neg.shape)\n",
    "beta = torch.rand(X_neg.shape)\n",
    "fixed_ordering = torch.arange(3).repeat(N_neg, 1)\n",
    "S = torch.eye(X_neg.shape[1])[torch.argsort(fixed_ordering)].to(int)"
   ]
  },
  {
   "cell_type": "code",
   "execution_count": 74,
   "metadata": {},
   "outputs": [],
   "source": [
    "i=0\n",
    "U = SCM.scm.abduction(X_neg)\n",
    "U += A * S[:, i]\n",
    "X_prime = SCM.scm.prediction(U)"
   ]
  },
  {
   "cell_type": "code",
   "execution_count": 75,
   "metadata": {},
   "outputs": [],
   "source": [
    "W_adjacency = torch.tensor([[0, 0.5, 0.35], [0, 0, 0.3], [0, 0, 0]])\n",
    "W_temp = W_adjacency + torch.eye(W_adjacency.shape[0])"
   ]
  },
  {
   "cell_type": "code",
   "execution_count": 76,
   "metadata": {},
   "outputs": [],
   "source": [
    "X_prime_lin = X_neg.clone()\n",
    "X_prime_lin += (A * S[:,i]) @ W_temp"
   ]
  },
  {
   "cell_type": "code",
   "execution_count": 77,
   "metadata": {},
   "outputs": [
    {
     "data": {
      "text/plain": [
       "tensor([[ 0.0000e+00,  0.0000e+00, -3.3691e-09],\n",
       "        [ 0.0000e+00,  0.0000e+00, -2.0617e-08],\n",
       "        [ 0.0000e+00,  0.0000e+00, -5.0974e-09],\n",
       "        [ 0.0000e+00,  0.0000e+00, -1.8036e-09],\n",
       "        [ 0.0000e+00,  0.0000e+00,  1.6832e-08],\n",
       "        [ 0.0000e+00,  0.0000e+00, -2.6672e-09],\n",
       "        [ 0.0000e+00,  0.0000e+00,  3.8623e-09],\n",
       "        [ 0.0000e+00,  0.0000e+00,  4.3408e-10],\n",
       "        [ 0.0000e+00,  0.0000e+00, -1.9811e-08],\n",
       "        [ 0.0000e+00,  0.0000e+00,  3.7525e-09],\n",
       "        [ 0.0000e+00,  0.0000e+00,  3.9196e-08],\n",
       "        [ 0.0000e+00,  0.0000e+00, -8.1897e-09],\n",
       "        [ 0.0000e+00,  0.0000e+00, -6.2000e-09],\n",
       "        [ 0.0000e+00,  0.0000e+00,  3.8917e-09],\n",
       "        [ 0.0000e+00,  0.0000e+00,  1.6815e-08],\n",
       "        [ 0.0000e+00,  0.0000e+00,  5.6955e-08],\n",
       "        [ 0.0000e+00,  0.0000e+00,  7.7866e-09],\n",
       "        [ 0.0000e+00,  0.0000e+00, -1.9717e-08],\n",
       "        [ 0.0000e+00,  0.0000e+00,  2.0808e-09],\n",
       "        [ 0.0000e+00,  0.0000e+00, -2.9515e-08],\n",
       "        [ 0.0000e+00,  0.0000e+00, -1.7604e-08],\n",
       "        [ 0.0000e+00,  0.0000e+00, -5.9064e-09],\n",
       "        [ 0.0000e+00,  0.0000e+00,  8.9426e-09],\n",
       "        [ 0.0000e+00,  0.0000e+00, -8.8138e-09],\n",
       "        [ 0.0000e+00,  0.0000e+00,  5.8358e-10],\n",
       "        [ 0.0000e+00,  0.0000e+00,  1.8487e-08],\n",
       "        [ 0.0000e+00,  0.0000e+00,  1.3359e-08],\n",
       "        [ 0.0000e+00,  0.0000e+00, -2.4512e-08],\n",
       "        [ 0.0000e+00,  0.0000e+00,  9.7087e-10],\n",
       "        [ 0.0000e+00,  0.0000e+00,  2.2122e-08],\n",
       "        [ 0.0000e+00,  0.0000e+00, -1.8015e-08],\n",
       "        [ 0.0000e+00,  0.0000e+00, -2.0637e-08],\n",
       "        [ 0.0000e+00,  0.0000e+00, -1.7465e-09],\n",
       "        [ 0.0000e+00,  0.0000e+00, -1.0158e-10],\n",
       "        [ 0.0000e+00,  0.0000e+00, -2.6847e-09],\n",
       "        [ 0.0000e+00,  0.0000e+00,  1.4483e-08],\n",
       "        [ 0.0000e+00,  0.0000e+00,  1.4460e-08],\n",
       "        [ 0.0000e+00,  0.0000e+00, -2.2673e-08],\n",
       "        [ 0.0000e+00,  0.0000e+00, -1.7280e-08],\n",
       "        [ 0.0000e+00,  0.0000e+00, -5.1895e-09],\n",
       "        [ 0.0000e+00,  0.0000e+00, -1.0506e-08],\n",
       "        [ 0.0000e+00,  0.0000e+00, -1.0896e-08],\n",
       "        [ 0.0000e+00,  0.0000e+00, -6.8468e-09],\n",
       "        [ 0.0000e+00,  0.0000e+00,  1.3447e-09],\n",
       "        [ 0.0000e+00,  0.0000e+00, -2.7037e-08],\n",
       "        [ 0.0000e+00,  0.0000e+00,  1.3920e-08],\n",
       "        [ 0.0000e+00,  0.0000e+00,  1.7821e-08],\n",
       "        [ 0.0000e+00,  0.0000e+00, -1.9181e-08],\n",
       "        [ 0.0000e+00,  0.0000e+00,  5.0548e-09],\n",
       "        [ 0.0000e+00,  0.0000e+00, -9.0036e-09],\n",
       "        [ 0.0000e+00,  0.0000e+00,  1.0664e-09],\n",
       "        [ 0.0000e+00,  0.0000e+00, -1.5785e-08],\n",
       "        [ 0.0000e+00,  0.0000e+00,  1.0457e-08],\n",
       "        [ 0.0000e+00,  0.0000e+00,  5.0065e-09],\n",
       "        [ 0.0000e+00,  0.0000e+00,  8.5201e-09],\n",
       "        [ 0.0000e+00,  0.0000e+00, -5.8685e-10],\n",
       "        [ 0.0000e+00,  0.0000e+00,  4.1288e-08],\n",
       "        [ 0.0000e+00,  0.0000e+00, -1.5120e-08],\n",
       "        [ 0.0000e+00,  0.0000e+00, -2.0320e-09],\n",
       "        [ 0.0000e+00,  0.0000e+00, -1.6219e-08],\n",
       "        [ 0.0000e+00,  0.0000e+00, -8.2526e-09],\n",
       "        [ 0.0000e+00,  0.0000e+00,  4.6741e-10],\n",
       "        [ 0.0000e+00,  0.0000e+00, -2.2419e-08],\n",
       "        [ 0.0000e+00,  0.0000e+00,  2.0807e-08],\n",
       "        [ 0.0000e+00,  0.0000e+00,  1.5963e-08],\n",
       "        [ 0.0000e+00,  0.0000e+00, -4.8996e-09],\n",
       "        [ 0.0000e+00,  0.0000e+00, -2.9158e-08],\n",
       "        [ 0.0000e+00,  0.0000e+00, -2.4579e-08],\n",
       "        [ 0.0000e+00,  0.0000e+00,  8.9460e-10],\n",
       "        [ 0.0000e+00,  0.0000e+00, -1.5683e-08],\n",
       "        [ 0.0000e+00,  0.0000e+00,  1.9224e-09],\n",
       "        [ 0.0000e+00,  0.0000e+00, -3.6032e-09],\n",
       "        [ 0.0000e+00,  0.0000e+00,  1.7709e-08],\n",
       "        [ 0.0000e+00,  0.0000e+00, -3.3125e-08],\n",
       "        [ 0.0000e+00,  0.0000e+00, -2.8312e-09]], dtype=torch.float64,\n",
       "       grad_fn=<SubBackward0>)"
      ]
     },
     "execution_count": 77,
     "metadata": {},
     "output_type": "execute_result"
    }
   ],
   "source": [
    "X_prime_lin - X_prime"
   ]
  },
  {
   "cell_type": "code",
   "execution_count": 80,
   "metadata": {
    "ExecuteTime": {
     "end_time": "2023-09-03T21:55:15.717570514Z",
     "start_time": "2023-09-03T21:55:14.033915512Z"
    },
    "collapsed": false
   },
   "outputs": [],
   "source": [
    "import numpy as np\n",
    "import matplotlib\n",
    "import matplotlib.pyplot as plt\n",
    "import seaborn as sns"
   ]
  },
  {
   "cell_type": "code",
   "execution_count": 8,
   "metadata": {
    "ExecuteTime": {
     "end_time": "2023-09-03T21:55:16.684667033Z",
     "start_time": "2023-09-03T21:55:16.640302419Z"
    },
    "collapsed": false
   },
   "outputs": [],
   "source": [
    "results = np.load('results/simple_scm_noise_results.npy')"
   ]
  },
  {
   "cell_type": "code",
   "execution_count": 9,
   "metadata": {
    "ExecuteTime": {
     "end_time": "2023-09-03T21:55:17.188204193Z",
     "start_time": "2023-09-03T21:55:17.164270971Z"
    },
    "collapsed": false
   },
   "outputs": [],
   "source": [
    "W_range = np.linspace(0, 2, 10)\n",
    "e_range = np.linspace(0, 2, 10)"
   ]
  },
  {
   "cell_type": "code",
   "execution_count": 10,
   "metadata": {
    "ExecuteTime": {
     "end_time": "2023-09-03T21:55:18.262943421Z",
     "start_time": "2023-09-03T21:55:17.708091322Z"
    },
    "collapsed": false
   },
   "outputs": [
    {
     "ename": "NameError",
     "evalue": "name 'plot' is not defined",
     "output_type": "error",
     "traceback": [
      "\u001b[0;31m---------------------------------------------------------------------------\u001b[0m",
      "\u001b[0;31mNameError\u001b[0m                                 Traceback (most recent call last)",
      "Cell \u001b[0;32mIn[10], line 1\u001b[0m\n\u001b[0;32m----> 1\u001b[0m plot(W_range, e_range, results, \u001b[39m'\u001b[39m\u001b[39msimple_scm_noise_results\u001b[39m\u001b[39m'\u001b[39m)\n",
      "\u001b[0;31mNameError\u001b[0m: name 'plot' is not defined"
     ]
    }
   ],
   "source": [
    "plot(W_range, e_range, results, 'simple_scm_noise_results')"
   ]
  },
  {
   "cell_type": "code",
   "execution_count": 82,
   "metadata": {},
   "outputs": [],
   "source": [
    "results = np.load('results/simpleSCM_comparison_results.npy')*100\n",
    "\n",
    "labels = np.array([5, 10, 20, 50, 100])"
   ]
  },
  {
   "cell_type": "code",
   "execution_count": 83,
   "metadata": {},
   "outputs": [
    {
     "data": {
      "image/png": "[encoded data removed]",
      "text/plain": [
       "<Figure size 400x300 with 1 Axes>"
      ]
     },
     "metadata": {},
     "output_type": "display_data"
    }
   ],
   "source": [
    "# Matplotlib setup\n",
    "plt.rcParams[\"savefig.dpi\"] = 300\n",
    "matplotlib.rcParams[\"font.family\"] = \"serif\"\n",
    "matplotlib.rcParams[\"font.serif\"] = \"cmr10\"\n",
    "matplotlib.rcParams[\"mathtext.fontset\"] = \"cm\"\n",
    "matplotlib.rcParams[\"axes.unicode_minus\"] = False\n",
    "matplotlib.rcParams[\"font.size\"] = \"10\"\n",
    "plt.rcParams[\"figure.figsize\"] = (4, 3)\n",
    "\n",
    "x_values = [1, 2, 3, 4, 5]\n",
    "\n",
    "# Create the y-axis ticks with percentage signs\n",
    "y_ticks = np.arange(0, results.max() + 10, 10)\n",
    "y_labels = [f'{i}%' for i in y_ticks]\n",
    "\n",
    "# Plot with the new y axis labels\n",
    "plt.bar(x_values, results, align='center')\n",
    "plt.xlabel('Number of Comparisons')\n",
    "plt.ylabel('Percentage Increase in Cost')\n",
    "plt.title('Cost Increase vs ground truth (Simple SCM)')\n",
    "plt.xticks(x_values, labels)\n",
    "plt.yticks(y_ticks, y_labels)\n",
    "plt.tight_layout()\n",
    "plt.savefig('plots/simpleSCM_comparison_results.png')\n",
    "\n",
    "plt.show()\n"
   ]
  },
  {
   "cell_type": "code",
   "execution_count": null,
   "metadata": {},
   "outputs": [],
   "source": []
  }
 ],
 "metadata": {
  "kernelspec": {
   "display_name": "Python 3 (ipykernel)",
   "language": "python",
   "name": "python3"
  },
  "language_info": {
   "codemirror_mode": {
    "name": "ipython",
    "version": 3
   },
   "file_extension": ".py",
   "mimetype": "text/x-python",
   "name": "python",
   "nbconvert_exporter": "python",
   "pygments_lexer": "ipython3",
   "version": "3.10.12"
  }
 },
 "nbformat": 4,
 "nbformat_minor": 4
}
