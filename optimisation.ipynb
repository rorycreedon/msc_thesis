{
 "cells": [
  {
   "cell_type": "code",
   "execution_count": 3,
   "metadata": {
    "ExecuteTime": {
     "end_time": "2023-08-15T10:25:49.740072071Z",
     "start_time": "2023-08-15T10:25:49.440065300Z"
    }
   },
   "outputs": [],
   "source": [
    "import numpy as np\n",
    "import torch\n",
    "import networkx as nx\n",
    "\n",
    "from src.causal_recourse_gen import CausalRecourseGenerator, eval_actions_numpy"
   ]
  },
  {
   "cell_type": "code",
   "execution_count": 4,
   "metadata": {
    "ExecuteTime": {
     "end_time": "2023-08-15T10:25:50.195917347Z",
     "start_time": "2023-08-15T10:25:50.152974431Z"
    }
   },
   "outputs": [],
   "source": [
    "%load_ext autoreload\n",
    "%autoreload 2"
   ]
  },
  {
   "cell_type": "code",
   "execution_count": 5,
   "outputs": [
    {
     "data": {
      "text/plain": "<Figure size 640x480 with 1 Axes>",
      "image/png": "[encoded data removed]"
     },
     "metadata": {},
     "output_type": "display_data"
    }
   ],
   "source": [
    "W_adjacency = np.array([[0, 0.3, 0.2], [0, 0, -0.4], [0, 0, 0]])\n",
    "# draw graph from adjacency matrix\n",
    "G = nx.from_numpy_array(W_adjacency, create_using=nx.DiGraph)\n",
    "nx.draw_shell(G, with_labels=True, labels={0: \"X1\", 1: \"X2\", 2: \"X3\"})"
   ],
   "metadata": {
    "collapsed": false,
    "ExecuteTime": {
     "end_time": "2023-08-15T10:25:51.010695240Z",
     "start_time": "2023-08-15T10:25:50.597808276Z"
    }
   }
  },
  {
   "cell_type": "code",
   "execution_count": 6,
   "outputs": [],
   "source": [
    "W_classifier = np.array([0.5, 0.6, 0.7])\n",
    "b_classifier = -0.5"
   ],
   "metadata": {
    "collapsed": false,
    "ExecuteTime": {
     "end_time": "2023-08-15T10:25:51.162002316Z",
     "start_time": "2023-08-15T10:25:51.130376534Z"
    }
   }
  },
  {
   "cell_type": "code",
   "execution_count": 7,
   "outputs": [],
   "source": [
    "X = np.array([[0.2, -0.8, -0.4], [-0.6, -0.9, -0.3]])"
   ],
   "metadata": {
    "collapsed": false,
    "ExecuteTime": {
     "end_time": "2023-08-15T10:25:51.758429738Z",
     "start_time": "2023-08-15T10:25:51.728505926Z"
    }
   }
  },
  {
   "cell_type": "code",
   "execution_count": 8,
   "outputs": [],
   "source": [
    "def sigmoid(x):\n",
    "    return 1 / (1 + np.exp(-x))"
   ],
   "metadata": {
    "collapsed": false,
    "ExecuteTime": {
     "end_time": "2023-08-15T10:25:52.284163835Z",
     "start_time": "2023-08-15T10:25:52.240516001Z"
    }
   }
  },
  {
   "cell_type": "code",
   "execution_count": 9,
   "outputs": [
    {
     "data": {
      "text/plain": "array([0.23866729, 0.17508627])"
     },
     "execution_count": 9,
     "metadata": {},
     "output_type": "execute_result"
    }
   ],
   "source": [
    "sigmoid(X @ W_classifier + b_classifier)"
   ],
   "metadata": {
    "collapsed": false,
    "ExecuteTime": {
     "end_time": "2023-08-15T10:25:52.735853790Z",
     "start_time": "2023-08-15T10:25:52.703149365Z"
    }
   }
  },
  {
   "cell_type": "code",
   "execution_count": 10,
   "outputs": [],
   "source": [
    "recourse_gen = CausalRecourseGenerator(learn_beta=False, learn_ordering=False)\n",
    "recourse_gen.add_data(\n",
    "    X=torch.tensor(X),\n",
    "    W_adjacency=torch.tensor(W_adjacency),\n",
    "    W_classifier=torch.tensor(W_classifier),\n",
    "    b_classifier=torch.tensor(b_classifier),\n",
    ")\n",
    "recourse_gen.set_ordering(torch.Tensor([0, 1, 2]).repeat(2, 1))\n",
    "recourse_gen.set_beta(torch.Tensor([1, 1, 1]))\n",
    "recourse_df = recourse_gen.gen_recourse(classifier_margin=0, max_epochs=2000)"
   ],
   "metadata": {
    "collapsed": false,
    "ExecuteTime": {
     "end_time": "2023-08-15T10:25:53.881103265Z",
     "start_time": "2023-08-15T10:25:53.185201518Z"
    }
   }
  },
  {
   "cell_type": "code",
   "execution_count": 11,
   "outputs": [
    {
     "data": {
      "text/plain": "         X1        X2        X3        a1        a2        a3  order1  order2  \\\n0  0.953329 -0.280019  0.276159  0.753343  0.293988  0.643098     0.0     1.0   \n1  0.408190 -0.204103  0.604912  1.008176  0.393434  0.860638     0.0     1.0   \n\n   order3      cost      prob  \n0     2.0  1.067489  0.500491  \n1     2.0  1.911959  0.501268  ",
      "text/html": "<div>\n<style scoped>\n    .dataframe tbody tr th:only-of-type {\n        vertical-align: middle;\n    }\n\n    .dataframe tbody tr th {\n        vertical-align: top;\n    }\n\n    .dataframe thead th {\n        text-align: right;\n    }\n</style>\n<table border=\"1\" class=\"dataframe\">\n  <thead>\n    <tr style=\"text-align: right;\">\n      <th></th>\n      <th>X1</th>\n      <th>X2</th>\n      <th>X3</th>\n      <th>a1</th>\n      <th>a2</th>\n      <th>a3</th>\n      <th>order1</th>\n      <th>order2</th>\n      <th>order3</th>\n      <th>cost</th>\n      <th>prob</th>\n    </tr>\n  </thead>\n  <tbody>\n    <tr>\n      <th>0</th>\n      <td>0.953329</td>\n      <td>-0.280019</td>\n      <td>0.276159</td>\n      <td>0.753343</td>\n      <td>0.293988</td>\n      <td>0.643098</td>\n      <td>0.0</td>\n      <td>1.0</td>\n      <td>2.0</td>\n      <td>1.067489</td>\n      <td>0.500491</td>\n    </tr>\n    <tr>\n      <th>1</th>\n      <td>0.408190</td>\n      <td>-0.204103</td>\n      <td>0.604912</td>\n      <td>1.008176</td>\n      <td>0.393434</td>\n      <td>0.860638</td>\n      <td>0.0</td>\n      <td>1.0</td>\n      <td>2.0</td>\n      <td>1.911959</td>\n      <td>0.501268</td>\n    </tr>\n  </tbody>\n</table>\n</div>"
     },
     "execution_count": 11,
     "metadata": {},
     "output_type": "execute_result"
    }
   ],
   "source": [
    "recourse_df"
   ],
   "metadata": {
    "collapsed": false,
    "ExecuteTime": {
     "end_time": "2023-08-15T10:25:53.909566183Z",
     "start_time": "2023-08-15T10:25:53.882281203Z"
    }
   }
  },
  {
   "cell_type": "code",
   "execution_count": 12,
   "outputs": [],
   "source": [
    "# sample different betas\n",
    "betas = np.random.uniform(0, 2, (50, 3))"
   ],
   "metadata": {
    "collapsed": false,
    "ExecuteTime": {
     "end_time": "2023-08-15T10:25:54.278221892Z",
     "start_time": "2023-08-15T10:25:54.234258425Z"
    }
   }
  },
  {
   "cell_type": "code",
   "execution_count": 13,
   "outputs": [],
   "source": [
    "actions = np.empty((50, 2, 3))\n",
    "costs = np.empty((50, 2))\n",
    "\n",
    "for i, beta in enumerate(betas):\n",
    "    recourse_gen.set_beta(torch.tensor(beta, dtype=torch.float32))\n",
    "    df = recourse_gen.gen_recourse(classifier_margin=0.02, max_epochs=2000)\n",
    "    actions[i] = df[[\"a1\", \"a2\", \"a3\"]].values\n",
    "    costs[i] = df[\"cost\"].values"
   ],
   "metadata": {
    "collapsed": false,
    "ExecuteTime": {
     "end_time": "2023-08-15T10:27:03.176950603Z",
     "start_time": "2023-08-15T10:25:54.786593572Z"
    }
   }
  },
  {
   "cell_type": "code",
   "execution_count": null,
   "outputs": [],
   "source": [
    "recourse_gen = CausalRecourseGenerator(learn_beta=False, learn_ordering=False)\n",
    "recourse_gen.add_data(\n",
    "    X=torch.tensor(X),\n",
    "    W_adjacency=torch.tensor(W_adjacency),\n",
    "    W_classifier=torch.tensor(W_classifier),\n",
    "    b_classifier=torch.tensor(b_classifier),\n",
    ")\n",
    "recourse_gen.set_ordering(torch.Tensor([0, 1, 2]).repeat(2, 1))\n",
    "recourse_gen.set_beta(torch.Tensor([1, 1, 1]))\n",
    "recourse_df = recourse_gen.gen_recourse(classifier_margin=0, max_epochs=2000) "
   ],
   "metadata": {
    "collapsed": false
   }
  },
  {
   "cell_type": "code",
   "execution_count": 51,
   "outputs": [],
   "source": [
    "betas = np.random.uniform(0, 2, (2, 5, 50, 3))"
   ],
   "metadata": {
    "collapsed": false,
    "ExecuteTime": {
     "end_time": "2023-08-15T10:59:42.606013117Z",
     "start_time": "2023-08-15T10:59:42.565472588Z"
    }
   }
  },
  {
   "cell_type": "code",
   "execution_count": 52,
   "outputs": [
    {
     "data": {
      "text/plain": "array([[[[0.21385976, 1.07516456, 1.76634696],\n         [0.72170136, 0.8697054 , 0.50237081],\n         [1.69585618, 0.77558553, 1.38666627],\n         ...,\n         [1.0782887 , 1.6127759 , 0.5865001 ],\n         [1.27587029, 1.09239612, 1.63995583],\n         [1.57620316, 1.44567266, 1.76310909]],\n\n        [[0.79824373, 1.64882108, 1.95401004],\n         [1.00412049, 1.28955317, 1.9053421 ],\n         [0.05326625, 1.31702748, 0.31259915],\n         ...,\n         [1.05215414, 1.31665795, 0.2067929 ],\n         [0.00464791, 0.31926393, 0.72035192],\n         [0.2329292 , 0.25481875, 0.80097046]],\n\n        [[0.55529186, 1.34334699, 1.60214286],\n         [0.2859101 , 0.81680104, 0.71882586],\n         [0.18134983, 0.34715263, 1.31886872],\n         ...,\n         [1.7772346 , 0.26666531, 0.41690971],\n         [1.90512579, 0.95294257, 1.33143433],\n         [1.88691159, 1.53810483, 0.87118362]],\n\n        [[0.20503818, 1.36911567, 0.65358434],\n         [0.70527946, 1.44519629, 1.45680416],\n         [1.79207201, 1.51926963, 0.8973227 ],\n         ...,\n         [0.84484934, 0.1439179 , 0.35223385],\n         [0.7961708 , 1.4451293 , 1.10577122],\n         [1.04389267, 0.56864777, 1.89332245]],\n\n        [[0.72166212, 1.17059282, 0.95564157],\n         [0.34082113, 1.21575957, 1.98178319],\n         [0.54282725, 0.17169968, 1.45638522],\n         ...,\n         [0.5140102 , 1.35155365, 0.02924087],\n         [0.85490205, 0.06817819, 1.14597704],\n         [0.12557815, 0.40939015, 0.64823989]]],\n\n\n       [[[0.69192965, 0.71632942, 1.59517714],\n         [1.00048359, 1.37092939, 0.51019835],\n         [0.37661449, 1.40601725, 0.91874685],\n         ...,\n         [0.73058687, 0.12724669, 0.81020742],\n         [0.79803257, 0.24210472, 0.3571363 ],\n         [1.54208724, 1.43752878, 1.17906051]],\n\n        [[1.17395578, 1.96820695, 0.0953164 ],\n         [0.50137548, 0.88406996, 0.79934508],\n         [1.15023632, 0.6715659 , 1.85377372],\n         ...,\n         [0.78987663, 1.99792627, 0.80310288],\n         [1.09384209, 1.23931622, 0.57509604],\n         [1.71552722, 0.97265253, 1.73712011]],\n\n        [[0.7111297 , 0.773644  , 1.84511345],\n         [0.21036238, 0.15043304, 1.45134033],\n         [1.60919812, 1.86045895, 1.13458922],\n         ...,\n         [0.73999419, 0.00607484, 0.5289059 ],\n         [1.56820689, 0.72201998, 1.65524106],\n         [1.32655833, 1.6875743 , 1.9740022 ]],\n\n        [[1.5461229 , 0.16683612, 0.34660159],\n         [0.52807799, 0.0937436 , 0.49260227],\n         [0.3947653 , 0.60977505, 1.65896692],\n         ...,\n         [0.99953458, 1.10732284, 1.38616776],\n         [0.97106879, 1.90471928, 1.4396426 ],\n         [1.41170777, 0.07596034, 0.41224589]],\n\n        [[1.6434696 , 1.04119288, 0.0548912 ],\n         [0.82262968, 1.12800179, 1.32929885],\n         [1.86879515, 1.70196973, 0.51720695],\n         ...,\n         [0.55226668, 1.94079736, 1.09857052],\n         [1.20433552, 1.4681902 , 0.62542854],\n         [0.49304866, 1.93229501, 1.95288899]]]])"
     },
     "execution_count": 52,
     "metadata": {},
     "output_type": "execute_result"
    }
   ],
   "source": [
    "betas"
   ],
   "metadata": {
    "collapsed": false,
    "ExecuteTime": {
     "end_time": "2023-08-15T10:59:43.614646965Z",
     "start_time": "2023-08-15T10:59:43.580838371Z"
    }
   }
  },
  {
   "cell_type": "code",
   "execution_count": 65,
   "outputs": [
    {
     "ename": "KeyboardInterrupt",
     "evalue": "",
     "output_type": "error",
     "traceback": [
      "\u001B[0;31m---------------------------------------------------------------------------\u001B[0m",
      "\u001B[0;31mKeyboardInterrupt\u001B[0m                         Traceback (most recent call last)",
      "Cell \u001B[0;32mIn[65], line 4\u001B[0m\n\u001B[1;32m      2\u001B[0m \u001B[38;5;28;01mfor\u001B[39;00m i \u001B[38;5;129;01min\u001B[39;00m \u001B[38;5;28mrange\u001B[39m(\u001B[38;5;241m5\u001B[39m):\n\u001B[1;32m      3\u001B[0m     recourse_gen\u001B[38;5;241m.\u001B[39mset_beta(torch\u001B[38;5;241m.\u001B[39mtensor(betas[\u001B[38;5;241m0\u001B[39m, i], dtype\u001B[38;5;241m=\u001B[39mtorch\u001B[38;5;241m.\u001B[39mfloat32))\n\u001B[0;32m----> 4\u001B[0m     df \u001B[38;5;241m=\u001B[39m \u001B[43mrecourse_gen\u001B[49m\u001B[38;5;241m.\u001B[39mgen_recourse(classifier_margin\u001B[38;5;241m=\u001B[39m\u001B[38;5;241m0.02\u001B[39m, max_epochs\u001B[38;5;241m=\u001B[39m\u001B[38;5;241m2000\u001B[39m)\n\u001B[1;32m      5\u001B[0m     cost_0[i] \u001B[38;5;241m=\u001B[39m df[\u001B[38;5;124m\"\u001B[39m\u001B[38;5;124mcost\u001B[39m\u001B[38;5;124m\"\u001B[39m]\u001B[38;5;241m.\u001B[39mvalues\n\u001B[1;32m      7\u001B[0m cost_1 \u001B[38;5;241m=\u001B[39m np\u001B[38;5;241m.\u001B[39mempty((\u001B[38;5;241m5\u001B[39m, \u001B[38;5;241m50\u001B[39m))\n",
      "Cell \u001B[0;32mIn[65], line 4\u001B[0m\n\u001B[1;32m      2\u001B[0m \u001B[38;5;28;01mfor\u001B[39;00m i \u001B[38;5;129;01min\u001B[39;00m \u001B[38;5;28mrange\u001B[39m(\u001B[38;5;241m5\u001B[39m):\n\u001B[1;32m      3\u001B[0m     recourse_gen\u001B[38;5;241m.\u001B[39mset_beta(torch\u001B[38;5;241m.\u001B[39mtensor(betas[\u001B[38;5;241m0\u001B[39m, i], dtype\u001B[38;5;241m=\u001B[39mtorch\u001B[38;5;241m.\u001B[39mfloat32))\n\u001B[0;32m----> 4\u001B[0m     df \u001B[38;5;241m=\u001B[39m \u001B[43mrecourse_gen\u001B[49m\u001B[38;5;241m.\u001B[39mgen_recourse(classifier_margin\u001B[38;5;241m=\u001B[39m\u001B[38;5;241m0.02\u001B[39m, max_epochs\u001B[38;5;241m=\u001B[39m\u001B[38;5;241m2000\u001B[39m)\n\u001B[1;32m      5\u001B[0m     cost_0[i] \u001B[38;5;241m=\u001B[39m df[\u001B[38;5;124m\"\u001B[39m\u001B[38;5;124mcost\u001B[39m\u001B[38;5;124m\"\u001B[39m]\u001B[38;5;241m.\u001B[39mvalues\n\u001B[1;32m      7\u001B[0m cost_1 \u001B[38;5;241m=\u001B[39m np\u001B[38;5;241m.\u001B[39mempty((\u001B[38;5;241m5\u001B[39m, \u001B[38;5;241m50\u001B[39m))\n",
      "File \u001B[0;32m~/.local/share/JetBrains/Toolbox/apps/DataSpell/ch-0/232.8660.202/plugins/python-ce/helpers/pydev/_pydevd_bundle/pydevd_frame.py:747\u001B[0m, in \u001B[0;36mPyDBFrame.trace_dispatch\u001B[0;34m(self, frame, event, arg)\u001B[0m\n\u001B[1;32m    745\u001B[0m \u001B[38;5;66;03m# if thread has a suspend flag, we suspend with a busy wait\u001B[39;00m\n\u001B[1;32m    746\u001B[0m \u001B[38;5;28;01mif\u001B[39;00m info\u001B[38;5;241m.\u001B[39mpydev_state \u001B[38;5;241m==\u001B[39m STATE_SUSPEND:\n\u001B[0;32m--> 747\u001B[0m     \u001B[38;5;28;43mself\u001B[39;49m\u001B[38;5;241;43m.\u001B[39;49m\u001B[43mdo_wait_suspend\u001B[49m\u001B[43m(\u001B[49m\u001B[43mthread\u001B[49m\u001B[43m,\u001B[49m\u001B[43m \u001B[49m\u001B[43mframe\u001B[49m\u001B[43m,\u001B[49m\u001B[43m \u001B[49m\u001B[43mevent\u001B[49m\u001B[43m,\u001B[49m\u001B[43m \u001B[49m\u001B[43marg\u001B[49m\u001B[43m)\u001B[49m\n\u001B[1;32m    748\u001B[0m     \u001B[38;5;66;03m# No need to reset frame.f_trace to keep the same trace function.\u001B[39;00m\n\u001B[1;32m    749\u001B[0m     \u001B[38;5;28;01mreturn\u001B[39;00m \u001B[38;5;28mself\u001B[39m\u001B[38;5;241m.\u001B[39mtrace_dispatch\n",
      "File \u001B[0;32m~/.local/share/JetBrains/Toolbox/apps/DataSpell/ch-0/232.8660.202/plugins/python-ce/helpers/pydev/_pydevd_bundle/pydevd_frame.py:144\u001B[0m, in \u001B[0;36mPyDBFrame.do_wait_suspend\u001B[0;34m(self, *args, **kwargs)\u001B[0m\n\u001B[1;32m    143\u001B[0m \u001B[38;5;28;01mdef\u001B[39;00m \u001B[38;5;21mdo_wait_suspend\u001B[39m(\u001B[38;5;28mself\u001B[39m, \u001B[38;5;241m*\u001B[39margs, \u001B[38;5;241m*\u001B[39m\u001B[38;5;241m*\u001B[39mkwargs):\n\u001B[0;32m--> 144\u001B[0m     \u001B[38;5;28;43mself\u001B[39;49m\u001B[38;5;241;43m.\u001B[39;49m\u001B[43m_args\u001B[49m\u001B[43m[\u001B[49m\u001B[38;5;241;43m0\u001B[39;49m\u001B[43m]\u001B[49m\u001B[38;5;241;43m.\u001B[39;49m\u001B[43mdo_wait_suspend\u001B[49m\u001B[43m(\u001B[49m\u001B[38;5;241;43m*\u001B[39;49m\u001B[43margs\u001B[49m\u001B[43m,\u001B[49m\u001B[43m \u001B[49m\u001B[38;5;241;43m*\u001B[39;49m\u001B[38;5;241;43m*\u001B[39;49m\u001B[43mkwargs\u001B[49m\u001B[43m)\u001B[49m\n",
      "File \u001B[0;32m~/.local/share/JetBrains/Toolbox/apps/DataSpell/ch-0/232.8660.202/plugins/python-ce/helpers/pydev/pydevd.py:1160\u001B[0m, in \u001B[0;36mPyDB.do_wait_suspend\u001B[0;34m(self, thread, frame, event, arg, send_suspend_message, is_unhandled_exception)\u001B[0m\n\u001B[1;32m   1157\u001B[0m         from_this_thread\u001B[38;5;241m.\u001B[39mappend(frame_id)\n\u001B[1;32m   1159\u001B[0m \u001B[38;5;28;01mwith\u001B[39;00m \u001B[38;5;28mself\u001B[39m\u001B[38;5;241m.\u001B[39m_threads_suspended_single_notification\u001B[38;5;241m.\u001B[39mnotify_thread_suspended(thread_id, stop_reason):\n\u001B[0;32m-> 1160\u001B[0m     \u001B[38;5;28;43mself\u001B[39;49m\u001B[38;5;241;43m.\u001B[39;49m\u001B[43m_do_wait_suspend\u001B[49m\u001B[43m(\u001B[49m\u001B[43mthread\u001B[49m\u001B[43m,\u001B[49m\u001B[43m \u001B[49m\u001B[43mframe\u001B[49m\u001B[43m,\u001B[49m\u001B[43m \u001B[49m\u001B[43mevent\u001B[49m\u001B[43m,\u001B[49m\u001B[43m \u001B[49m\u001B[43marg\u001B[49m\u001B[43m,\u001B[49m\u001B[43m \u001B[49m\u001B[43msuspend_type\u001B[49m\u001B[43m,\u001B[49m\u001B[43m \u001B[49m\u001B[43mfrom_this_thread\u001B[49m\u001B[43m)\u001B[49m\n",
      "File \u001B[0;32m~/.local/share/JetBrains/Toolbox/apps/DataSpell/ch-0/232.8660.202/plugins/python-ce/helpers/pydev/pydevd.py:1175\u001B[0m, in \u001B[0;36mPyDB._do_wait_suspend\u001B[0;34m(self, thread, frame, event, arg, suspend_type, from_this_thread)\u001B[0m\n\u001B[1;32m   1172\u001B[0m             \u001B[38;5;28mself\u001B[39m\u001B[38;5;241m.\u001B[39m_call_mpl_hook()\n\u001B[1;32m   1174\u001B[0m         \u001B[38;5;28mself\u001B[39m\u001B[38;5;241m.\u001B[39mprocess_internal_commands()\n\u001B[0;32m-> 1175\u001B[0m         \u001B[43mtime\u001B[49m\u001B[38;5;241;43m.\u001B[39;49m\u001B[43msleep\u001B[49m\u001B[43m(\u001B[49m\u001B[38;5;241;43m0.01\u001B[39;49m\u001B[43m)\u001B[49m\n\u001B[1;32m   1177\u001B[0m \u001B[38;5;28mself\u001B[39m\u001B[38;5;241m.\u001B[39mcancel_async_evaluation(get_current_thread_id(thread), \u001B[38;5;28mstr\u001B[39m(\u001B[38;5;28mid\u001B[39m(frame)))\n\u001B[1;32m   1179\u001B[0m \u001B[38;5;66;03m# process any stepping instructions\u001B[39;00m\n",
      "\u001B[0;31mKeyboardInterrupt\u001B[0m: "
     ]
    }
   ],
   "source": [
    "cost_0 = np.empty((5, 50))\n",
    "for i in range(5):\n",
    "    recourse_gen.set_beta(torch.tensor(betas[0, i], dtype=torch.float32))\n",
    "    df = recourse_gen.gen_recourse(classifier_margin=0.02, max_epochs=2000)\n",
    "    cost_0[i] = df[\"cost\"].values\n",
    "\n",
    "cost_1 = np.empty((5, 50))\n",
    "for i in range(5):\n",
    "    recourse_gen.set_beta(torch.tensor(betas[1, i], dtype=torch.float32))\n",
    "    df = recourse_gen.gen_recourse(classifier_margin=0.02, max_epochs=2000)\n",
    "    cost_1[i] = df[\"cost\"].values"
   ],
   "metadata": {
    "collapsed": false,
    "ExecuteTime": {
     "end_time": "2023-08-15T11:54:37.650199610Z",
     "start_time": "2023-08-15T11:53:34.268889247Z"
    }
   }
  },
  {
   "cell_type": "code",
   "execution_count": 67,
   "outputs": [
    {
     "data": {
      "text/plain": "(50, 3)"
     },
     "execution_count": 67,
     "metadata": {},
     "output_type": "execute_result"
    }
   ],
   "source": [
    "betas[0,0].shape"
   ],
   "metadata": {
    "collapsed": false,
    "ExecuteTime": {
     "end_time": "2023-08-15T12:07:00.809269065Z",
     "start_time": "2023-08-15T12:07:00.753502677Z"
    }
   }
  },
  {
   "cell_type": "code",
   "execution_count": null,
   "outputs": [],
   "source": [],
   "metadata": {
    "collapsed": false
   }
  }
 ],
 "metadata": {
  "kernelspec": {
   "display_name": "Python 3 (ipykernel)",
   "language": "python",
   "name": "python3"
  },
  "language_info": {
   "codemirror_mode": {
    "name": "ipython",
    "version": 3
   },
   "file_extension": ".py",
   "mimetype": "text/x-python",
   "name": "python",
   "nbconvert_exporter": "python",
   "pygments_lexer": "ipython3",
   "version": "3.10.12"
  }
 },
 "nbformat": 4,
 "nbformat_minor": 4
}
